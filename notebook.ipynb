{
 "cells": [
  {
   "cell_type": "markdown",
   "id": "152d1cf1-dd01-498c-b204-3e7a40c51662",
   "metadata": {},
   "source": [
    "# Researcher Chat\n",
    "Hello, everyone. The purpose of this notebook is to create a chatbot that reads papers online and answers technical questions from  Arxiv or SciHub.\n",
    "\n",
    "You can download one of the best models of Generative AI that are  free and open source.\n",
    "or you can connect with your WatsonX account or ChatGPT account.\n",
    "\n",
    "The idea of this program is to develop a simple tool that helps researchers find insights about issues that we have in science.\n",
    "\n"
   ]
  },
  {
   "cell_type": "markdown",
   "id": "559e0da0-552b-4e58-8be5-f1cb348d353a",
   "metadata": {},
   "source": [
    "### First we need to load our libraries needed for this task"
   ]
  },
  {
   "cell_type": "code",
   "execution_count": 1,
   "id": "3a6e8e37-1d64-49e1-b280-1c3cec48dad5",
   "metadata": {},
   "outputs": [
    {
     "name": "stderr",
     "output_type": "stream",
     "text": [
      "C:\\Users\\rusla\\.conda\\envs\\textgen\\lib\\site-packages\\tqdm\\auto.py:21: TqdmWarning: IProgress not found. Please update jupyter and ipywidgets. See https://ipywidgets.readthedocs.io/en/stable/user_install.html\n",
      "  from .autonotebook import tqdm as notebook_tqdm\n"
     ]
    }
   ],
   "source": [
    "import urllib.request\n",
    "import fitz\n",
    "import re\n",
    "import numpy as np\n",
    "import tensorflow_hub as hub\n",
    "import openai\n",
    "import gradio as gr\n",
    "import os\n",
    "from sklearn.neighbors import NearestNeighbors"
   ]
  },
  {
   "cell_type": "code",
   "execution_count": 2,
   "id": "77420beb-260b-45e5-84dc-3bf24d720630",
   "metadata": {},
   "outputs": [],
   "source": [
    "def download_pdf(url, output_path):\n",
    "    urllib.request.urlretrieve(url, output_path)\n",
    "def preprocess(text):\n",
    "    text = text.replace('\\n', ' ')\n",
    "    text = re.sub('\\s+', ' ', text)\n",
    "    return text\n",
    "def pdf_to_text(path, start_page=1, end_page=None):\n",
    "    doc = fitz.open(path)\n",
    "    total_pages = doc.page_count\n",
    "\n",
    "    if end_page is None:\n",
    "        end_page = total_pages\n",
    "\n",
    "    text_list = []\n",
    "\n",
    "    for i in range(start_page-1, end_page):\n",
    "        text = doc.load_page(i).get_text(\"text\")\n",
    "        text = preprocess(text)\n",
    "        text_list.append(text)\n",
    "\n",
    "    doc.close()\n",
    "    return text_list\n",
    "def text_to_chunks(texts, word_length=150, start_page=1):\n",
    "    text_toks = [t.split(' ') for t in texts]\n",
    "    page_nums = []\n",
    "    chunks = []\n",
    "    \n",
    "    for idx, words in enumerate(text_toks):\n",
    "        for i in range(0, len(words), word_length):\n",
    "            chunk = words[i:i+word_length]\n",
    "            if (i+word_length) > len(words) and (len(chunk) < word_length) and (\n",
    "                len(text_toks) != (idx+1)):\n",
    "                text_toks[idx+1] = chunk + text_toks[idx+1]\n",
    "                continue\n",
    "            chunk = ' '.join(chunk).strip()\n",
    "            chunk = f'[Page no. {idx+start_page}]' + ' ' + '\"' + chunk + '\"'\n",
    "            chunks.append(chunk)\n",
    "    return chunks"
   ]
  },
  {
   "cell_type": "code",
   "execution_count": 3,
   "id": "49af33b4-446e-4422-a19d-0559a4c563cc",
   "metadata": {},
   "outputs": [],
   "source": [
    "class SemanticSearch:\n",
    "    def __init__(self):\n",
    "        self.use = hub.load('https://tfhub.dev/google/universal-sentence-encoder/4')\n",
    "        self.fitted = False\n",
    "    def fit(self, data, batch=1000, n_neighbors=5):\n",
    "        self.data = data\n",
    "        self.embeddings = self.get_text_embedding(data, batch=batch)\n",
    "        n_neighbors = min(n_neighbors, len(self.embeddings))\n",
    "        self.nn = NearestNeighbors(n_neighbors=n_neighbors)\n",
    "        self.nn.fit(self.embeddings)\n",
    "        self.fitted = True\n",
    "    def __call__(self, text, return_data=True):\n",
    "        inp_emb = self.use([text])\n",
    "        neighbors = self.nn.kneighbors(inp_emb, return_distance=False)[0]\n",
    "        if return_data:\n",
    "            return [self.data[i] for i in neighbors]\n",
    "        else:\n",
    "            return neighbors\n",
    "    def get_text_embedding(self, texts, batch=1000):\n",
    "        embeddings = []\n",
    "        for i in range(0, len(texts), batch):\n",
    "            text_batch = texts[i:(i+batch)]\n",
    "            emb_batch = self.use(text_batch)\n",
    "            embeddings.append(emb_batch)\n",
    "        embeddings = np.vstack(embeddings)\n",
    "        return embeddings"
   ]
  },
  {
   "cell_type": "code",
   "execution_count": 4,
   "id": "4c8d0a59-9b51-4132-a375-8dd2f41ac719",
   "metadata": {},
   "outputs": [],
   "source": [
    "def load_recommender(path, start_page=1):\n",
    "    global recommender\n",
    "    texts = pdf_to_text(path, start_page=start_page)\n",
    "    chunks = text_to_chunks(texts, start_page=start_page)\n",
    "    recommender.fit(chunks)\n",
    "    return 'Corpus Loaded.'"
   ]
  },
  {
   "cell_type": "code",
   "execution_count": 5,
   "id": "f4001748-e4ca-409d-8e63-bcef472c87b7",
   "metadata": {},
   "outputs": [],
   "source": [
    "def generate_text_openai(openAI_key,prompt, engine=\"text-davinci-003\"):\n",
    "    openai.api_key = openAI_key\n",
    "    completions = openai.Completion.create(\n",
    "        engine=engine,\n",
    "        prompt=prompt,\n",
    "        max_tokens=512,\n",
    "        n=1,\n",
    "        stop=None,\n",
    "        temperature=0.7,\n",
    "    )\n",
    "    message = completions.choices[0].text\n",
    "    return message"
   ]
  },
  {
   "cell_type": "code",
   "execution_count": 6,
   "id": "b3fccc3c-3d91-4ff6-83a7-73d60de93130",
   "metadata": {},
   "outputs": [],
   "source": [
    "def query(query,modelo=\"flan-t5-small\",tokens=100000):\n",
    "    options=\"\"\n",
    "    tok_len=tokens\n",
    "    t5query = f\"\"\"Question: \"{query}\" Context: {options}\"\"\"        \n",
    "    if (modelo==\"flan-t5-small\" or modelo==\"flan-t5-large\"):\n",
    "       tokenizer = AutoTokenizer.from_pretrained(\"google/{}\".format(modelo))\n",
    "       model = AutoModelForSeq2SeqLM.from_pretrained(\"google/{}\".format(modelo)).to(device)\n",
    "       inputs = tokenizer(t5query, return_tensors=\"pt\").to(device)\n",
    "       outputs = model.generate(**inputs, max_new_tokens=tok_len)\n",
    "    else:\n",
    "        model = AutoModelForCausalLM.from_pretrained(\"EleutherAI/gpt-neo-125M\").to(device)\n",
    "        tokenizer = AutoTokenizer.from_pretrained(\"EleutherAI/gpt-neo-125M\")\n",
    "        input_ids = tokenizer(t5query, return_tensors=\"pt\").to(device) \n",
    "        outputs = model.generate(**input_ids, do_sample=True, max_length=tok_len) \n",
    "    generation=tokenizer.batch_decode(outputs, skip_special_tokens=True)\n",
    "    \n",
    "    return '\\n'.join(generation)"
   ]
  },
  {
   "cell_type": "code",
   "execution_count": 7,
   "id": "38dcfbf8-6b02-4ae7-b54a-1d28fad7db2f",
   "metadata": {},
   "outputs": [],
   "source": [
    "question='What is the capital of Italy'"
   ]
  },
  {
   "cell_type": "code",
   "execution_count": 8,
   "id": "712a6e68-cd98-4242-8615-8f4506749a99",
   "metadata": {},
   "outputs": [],
   "source": [
    "from transformers import AutoTokenizer, AutoModelForSeq2SeqLM, AutoModelForCausalLM\n",
    "import torch\n",
    "import gradio as gr\n",
    "import re\n",
    "device = torch.device(\"cuda\" if torch.cuda.is_available() else \"cpu\")"
   ]
  },
  {
   "cell_type": "code",
   "execution_count": 9,
   "id": "b11eccef-ebd8-416c-9845-e5175e71251e",
   "metadata": {},
   "outputs": [
    {
     "name": "stdout",
     "output_type": "stream",
     "text": [
      "bin C:\\Users\\rusla\\.conda\\envs\\textgen\\lib\\site-packages\\bitsandbytes\\libbitsandbytes_cuda117.dll\n"
     ]
    },
    {
     "data": {
      "text/plain": [
       "'rome'"
      ]
     },
     "execution_count": 9,
     "metadata": {},
     "output_type": "execute_result"
    }
   ],
   "source": [
    "query(question, modelo =\"flan-t5-small\" ,tokens=100)"
   ]
  },
  {
   "cell_type": "code",
   "execution_count": 10,
   "id": "55b9f055-cde6-4006-8099-28b4c3b75efc",
   "metadata": {},
   "outputs": [],
   "source": [
    "def generate_answer(question,openAI_key):\n",
    "    topn_chunks = recommender(question)\n",
    "    prompt = \"\"\n",
    "    prompt += 'search results:\\n\\n'\n",
    "    for c in topn_chunks:\n",
    "        prompt += c + '\\n\\n'\n",
    "        \n",
    "    prompt += \"Instructions: Compose a comprehensive reply to the query using the search results given. \"\\\n",
    "              \"Cite each reference using [ Page Number] notation (every result has this number at the beginning). \"\\\n",
    "              \"Citation should be done at the end of each sentence. If the search results mention multiple subjects \"\\\n",
    "              \"with the same name, create separate answers for each. Only include information found in the results and \"\\\n",
    "              \"don't add any additional information. Make sure the answer is correct and don't output false content. \"\\\n",
    "              \"If the text does not relate to the query, simply state 'Found Nothing'. Ignore outlier \"\\\n",
    "              \"search results which has nothing to do with the question. Only answer what is asked. The \"\\\n",
    "              \"answer should be short and concise. \\n\\nQuery: {question}\\nAnswer: \"\n",
    "    \n",
    "    prompt += f\"Query: {question}\\nAnswer:\"\n",
    "    answer = prompt\n",
    "    #answer = generate_text(openAI_key, prompt,\"text-davinci-003\")\n",
    "    return answer"
   ]
  },
  {
   "cell_type": "code",
   "execution_count": 11,
   "id": "b7061b80-439d-4f93-96b3-2b769170fe39",
   "metadata": {},
   "outputs": [],
   "source": [
    "def question_answer(url, file, question,openAI_key):\n",
    "    if openAI_key.strip()=='':\n",
    "        return '[ERROR]: Please enter you Open AI Key. Get your key here : https://platform.openai.com/account/api-keys'\n",
    "    if url.strip() == '' and file == None:\n",
    "        return '[ERROR]: Both URL and PDF is empty. Provide atleast one.'\n",
    "    \n",
    "    if url.strip() != '' and file != None:\n",
    "        return '[ERROR]: Both URL and PDF is provided. Please provide only one (eiter URL or PDF).'\n",
    "\n",
    "    if url.strip() != '':\n",
    "        glob_url = url\n",
    "        download_pdf(glob_url, 'corpus.pdf')\n",
    "        load_recommender('corpus.pdf')\n",
    "\n",
    "    else:\n",
    "        old_file_name = file.name\n",
    "        file_name = file.name\n",
    "        file_name = file_name[:-12] + file_name[-4:]\n",
    "        os.rename(old_file_name, file_name)\n",
    "        load_recommender(file_name)\n",
    "\n",
    "    if question.strip() == '':\n",
    "        return '[ERROR]: Question field is empty'\n",
    "\n",
    "    return generate_answer(question,openAI_key)"
   ]
  },
  {
   "cell_type": "code",
   "execution_count": 12,
   "id": "3a654fbd-3d90-45d8-a937-efa0ee5b63b5",
   "metadata": {},
   "outputs": [],
   "source": [
    "recommender = SemanticSearch()\n",
    "title = 'PDF GPT'\n",
    "description = \"\"\" PDF GPT allows you to chat with your PDF file using Universal Sentence Encoder and Open AI. It gives hallucination free response than other tools as the embeddings are better than OpenAI. The returned response can even cite the page number in square brackets([]) where the information is located, adding credibility to the responses and helping to locate pertinent information quickly.\"\"\""
   ]
  },
  {
   "cell_type": "code",
   "execution_count": 13,
   "id": "ef8e30af-fca0-4325-a90a-ec597a5b1638",
   "metadata": {},
   "outputs": [
    {
     "name": "stdout",
     "output_type": "stream",
     "text": [
      "Running on local URL:  http://127.0.0.1:7860\n",
      "\n",
      "To create a public link, set `share=True` in `launch()`.\n"
     ]
    },
    {
     "data": {
      "text/html": [
       "<div><iframe src=\"http://127.0.0.1:7860/\" width=\"100%\" height=\"500\" allow=\"autoplay; camera; microphone; clipboard-read; clipboard-write;\" frameborder=\"0\" allowfullscreen></iframe></div>"
      ],
      "text/plain": [
       "<IPython.core.display.HTML object>"
      ]
     },
     "metadata": {},
     "output_type": "display_data"
    },
    {
     "data": {
      "text/plain": []
     },
     "execution_count": 13,
     "metadata": {},
     "output_type": "execute_result"
    }
   ],
   "source": [
    "with gr.Blocks() as demo:\n",
    "\n",
    "    gr.Markdown(f'<center><h1>{title}</h1></center>')\n",
    "    gr.Markdown(description)\n",
    "\n",
    "    with gr.Row():\n",
    "        \n",
    "        with gr.Group():\n",
    "            gr.Markdown(f'<p style=\"text-align:center\">Get your Open AI API key <a href=\"https://platform.openai.com/account/api-keys\">here</a></p>')\n",
    "            openAI_key=gr.Textbox(label='Enter your OpenAI API key here')\n",
    "            url = gr.Textbox(label='Enter PDF URL here')\n",
    "            gr.Markdown(\"<center><h4>OR<h4></center>\")\n",
    "            file = gr.File(label='Upload your PDF/ Research Paper / Book here', file_types=['.pdf'])\n",
    "            question = gr.Textbox(label='Enter your question here')\n",
    "            btn = gr.Button(value='Submit')\n",
    "            btn.style(full_width=True)\n",
    "#openai.api_key = os.getenv('Your_Key_Here') \n",
    "        with gr.Group():\n",
    "            answer = gr.Textbox(label='The answer to your question is :')\n",
    "\n",
    "        btn.click(question_answer, inputs=[url, file, question,openAI_key], outputs=[answer])\n",
    "\n",
    "demo.launch()"
   ]
  },
  {
   "cell_type": "code",
   "execution_count": 14,
   "id": "d81cddff-e3ed-480e-b2ee-1f2ad6778362",
   "metadata": {},
   "outputs": [],
   "source": [
    "question=\"Give me a summary of the abstract\"\n",
    "def generate_prompt(question):\n",
    "    topn_chunks = recommender(question)\n",
    "    results = \"\"\n",
    "    results += 'search results:\\n\\n'\n",
    "    for c in topn_chunks:\n",
    "        results += c + '. \\n\\n'\n",
    "        \n",
    "    instruction = \"Instructions: Compose a comprehensive reply to the query using the search results given. \"\\\n",
    "              \"Cite each reference using [ Page Number] notation (every result has this number at the beginning). \"\\\n",
    "              \"Citation should be done at the end of each sentence. If the search results mention multiple subjects \"\\\n",
    "              \"with the same name, create separate answers for each. Only include information found in the results and \"\\\n",
    "              \"don't add any additional information. Make sure the answer is correct and don't output false content. \"\\\n",
    "              \"If the text does not relate to the query, simply state 'Found Nothing'. Ignore outlier \"\\\n",
    "              \"search results which has nothing to do with the question. Only answer what is asked. The \"\\\n",
    "              \"answer should be short and concise.\"\n",
    "    \n",
    "    prompt = instruction + \"\\n\\nQuery: {}\".format(question) + \" \\n\\n\" + results + \" \\nAnswer:\"\n",
    "    \n",
    "    #answer = generate_text(openAI_key, prompt,\"text-davinci-003\")\n",
    "    #return answer\n",
    "    return prompt\n"
   ]
  },
  {
   "cell_type": "code",
   "execution_count": 15,
   "id": "4b1ca807-ae76-4468-9956-07a68051b30b",
   "metadata": {},
   "outputs": [
    {
     "ename": "AttributeError",
     "evalue": "'SemanticSearch' object has no attribute 'nn'",
     "output_type": "error",
     "traceback": [
      "\u001b[1;31m---------------------------------------------------------------------------\u001b[0m",
      "\u001b[1;31mAttributeError\u001b[0m                            Traceback (most recent call last)",
      "Cell \u001b[1;32mIn[15], line 1\u001b[0m\n\u001b[1;32m----> 1\u001b[0m \u001b[43mgenerate_prompt\u001b[49m\u001b[43m(\u001b[49m\u001b[43mquestion\u001b[49m\u001b[43m)\u001b[49m\n",
      "Cell \u001b[1;32mIn[14], line 3\u001b[0m, in \u001b[0;36mgenerate_prompt\u001b[1;34m(question)\u001b[0m\n\u001b[0;32m      2\u001b[0m \u001b[38;5;28;01mdef\u001b[39;00m \u001b[38;5;21mgenerate_prompt\u001b[39m(question):\n\u001b[1;32m----> 3\u001b[0m     topn_chunks \u001b[38;5;241m=\u001b[39m \u001b[43mrecommender\u001b[49m\u001b[43m(\u001b[49m\u001b[43mquestion\u001b[49m\u001b[43m)\u001b[49m\n\u001b[0;32m      4\u001b[0m     results \u001b[38;5;241m=\u001b[39m \u001b[38;5;124m\"\u001b[39m\u001b[38;5;124m\"\u001b[39m\n\u001b[0;32m      5\u001b[0m     results \u001b[38;5;241m+\u001b[39m\u001b[38;5;241m=\u001b[39m \u001b[38;5;124m'\u001b[39m\u001b[38;5;124msearch results:\u001b[39m\u001b[38;5;130;01m\\n\u001b[39;00m\u001b[38;5;130;01m\\n\u001b[39;00m\u001b[38;5;124m'\u001b[39m\n",
      "Cell \u001b[1;32mIn[3], line 14\u001b[0m, in \u001b[0;36mSemanticSearch.__call__\u001b[1;34m(self, text, return_data)\u001b[0m\n\u001b[0;32m     12\u001b[0m \u001b[38;5;28;01mdef\u001b[39;00m \u001b[38;5;21m__call__\u001b[39m(\u001b[38;5;28mself\u001b[39m, text, return_data\u001b[38;5;241m=\u001b[39m\u001b[38;5;28;01mTrue\u001b[39;00m):\n\u001b[0;32m     13\u001b[0m     inp_emb \u001b[38;5;241m=\u001b[39m \u001b[38;5;28mself\u001b[39m\u001b[38;5;241m.\u001b[39muse([text])\n\u001b[1;32m---> 14\u001b[0m     neighbors \u001b[38;5;241m=\u001b[39m \u001b[38;5;28;43mself\u001b[39;49m\u001b[38;5;241;43m.\u001b[39;49m\u001b[43mnn\u001b[49m\u001b[38;5;241m.\u001b[39mkneighbors(inp_emb, return_distance\u001b[38;5;241m=\u001b[39m\u001b[38;5;28;01mFalse\u001b[39;00m)[\u001b[38;5;241m0\u001b[39m]\n\u001b[0;32m     15\u001b[0m     \u001b[38;5;28;01mif\u001b[39;00m return_data:\n\u001b[0;32m     16\u001b[0m         \u001b[38;5;28;01mreturn\u001b[39;00m [\u001b[38;5;28mself\u001b[39m\u001b[38;5;241m.\u001b[39mdata[i] \u001b[38;5;28;01mfor\u001b[39;00m i \u001b[38;5;129;01min\u001b[39;00m neighbors]\n",
      "\u001b[1;31mAttributeError\u001b[0m: 'SemanticSearch' object has no attribute 'nn'"
     ]
    }
   ],
   "source": [
    "generate_prompt(question)"
   ]
  },
  {
   "cell_type": "code",
   "execution_count": 69,
   "id": "1f44d0bb-d09e-4195-9624-6f7a675ee5ec",
   "metadata": {},
   "outputs": [
    {
     "name": "stdout",
     "output_type": "stream",
     "text": [
      "Learning Disentangled Avatars with Hybrid 3D Representations\n",
      "Attention De-sparsification Matters: Inducing Diversity in Digital Pathology Representation Learning\n"
     ]
    }
   ],
   "source": [
    "import arxiv\n",
    "search = arxiv.Search(\n",
    "  query = \"Shell model\",\n",
    "  max_results = 2,\n",
    "  sort_by = arxiv.SortCriterion.SubmittedDate\n",
    ")\n",
    "\n",
    "for result in search.results():\n",
    "  print(result.title)"
   ]
  },
  {
   "cell_type": "code",
   "execution_count": 85,
   "id": "78963df5-9fa4-478e-b32b-4a55648244d3",
   "metadata": {},
   "outputs": [],
   "source": [
    "titles = [result.title for result in search.results()]\n",
    "authors = [result.authors for result in search.results()]\n",
    "summary = [result.summary for result in search.results()]\n",
    "entry_id = [result.entry_id for result in search.results()]\n",
    "#download_source = [result.download_source for result in search.results()]\n",
    "#download_pdf = [result.download_pdf for result in search.results()]\n",
    "pdf_url = [result.pdf_url for result in search.results()]\n",
    "categories = [result.categories for result in search.results()]\n",
    "comment = [result.comment for result in search.results()]\n",
    "doi = [result.doi for result in search.results()]\n",
    "published = [result.published for result in search.results()]"
   ]
  },
  {
   "cell_type": "code",
   "execution_count": 71,
   "id": "f22e3d07-9b80-4394-9c50-2f4b95b555c9",
   "metadata": {},
   "outputs": [],
   "source": [
    "import pandas as pd"
   ]
  },
  {
   "cell_type": "code",
   "execution_count": 90,
   "id": "f58170fd-1efa-4599-bbe8-c6e6fe7ae76e",
   "metadata": {},
   "outputs": [],
   "source": [
    "df = pd.DataFrame({\n",
    "    'title': titles,\n",
    "    'authors': authors,\n",
    "    'summary': summary,\n",
    "    #'entry_id': entry_id,\n",
    "    'pdf_url':pdf_url,\n",
    "    'categories':categories,\n",
    "    'published':published\n",
    "    \n",
    "})"
   ]
  },
  {
   "cell_type": "code",
   "execution_count": 91,
   "id": "7f890c9a-a532-4b4f-99be-94f7b989f896",
   "metadata": {},
   "outputs": [],
   "source": [
    "df.insert(0, 'id', range(1, len(df) + 1))"
   ]
  },
  {
   "cell_type": "code",
   "execution_count": 92,
   "id": "9f254237-3d63-4e0c-a76a-9be67090c897",
   "metadata": {},
   "outputs": [
    {
     "name": "stdout",
     "output_type": "stream",
     "text": [
      "2 results were found.\n"
     ]
    }
   ],
   "source": [
    "print(f'{df.shape[0]} results were found.')"
   ]
  },
  {
   "cell_type": "code",
   "execution_count": 93,
   "id": "6235d67c-92d3-4237-a48f-e89ade1b0f57",
   "metadata": {},
   "outputs": [
    {
     "data": {
      "text/html": [
       "<div>\n",
       "<style scoped>\n",
       "    .dataframe tbody tr th:only-of-type {\n",
       "        vertical-align: middle;\n",
       "    }\n",
       "\n",
       "    .dataframe tbody tr th {\n",
       "        vertical-align: top;\n",
       "    }\n",
       "\n",
       "    .dataframe thead th {\n",
       "        text-align: right;\n",
       "    }\n",
       "</style>\n",
       "<table border=\"1\" class=\"dataframe\">\n",
       "  <thead>\n",
       "    <tr style=\"text-align: right;\">\n",
       "      <th></th>\n",
       "      <th>id</th>\n",
       "      <th>title</th>\n",
       "      <th>authors</th>\n",
       "      <th>summary</th>\n",
       "      <th>pdf_url</th>\n",
       "      <th>categories</th>\n",
       "      <th>published</th>\n",
       "    </tr>\n",
       "  </thead>\n",
       "  <tbody>\n",
       "    <tr>\n",
       "      <th>0</th>\n",
       "      <td>1</td>\n",
       "      <td>Learning Disentangled Avatars with Hybrid 3D R...</td>\n",
       "      <td>[Yao Feng, Weiyang Liu, Timo Bolkart, Jinlong ...</td>\n",
       "      <td>Tremendous efforts have been made to learn ani...</td>\n",
       "      <td>http://arxiv.org/pdf/2309.06441v1</td>\n",
       "      <td>[cs.CV, cs.AI, cs.GR]</td>\n",
       "      <td>2023-09-12 17:59:36+00:00</td>\n",
       "    </tr>\n",
       "    <tr>\n",
       "      <th>1</th>\n",
       "      <td>2</td>\n",
       "      <td>Attention De-sparsification Matters: Inducing ...</td>\n",
       "      <td>[Saarthak Kapse, Srijan Das, Jingwei Zhang, Ra...</td>\n",
       "      <td>We propose DiRL, a Diversity-inducing Represen...</td>\n",
       "      <td>http://arxiv.org/pdf/2309.06439v1</td>\n",
       "      <td>[cs.CV]</td>\n",
       "      <td>2023-09-12 17:59:10+00:00</td>\n",
       "    </tr>\n",
       "  </tbody>\n",
       "</table>\n",
       "</div>"
      ],
      "text/plain": [
       "   id                                              title  \\\n",
       "0   1  Learning Disentangled Avatars with Hybrid 3D R...   \n",
       "1   2  Attention De-sparsification Matters: Inducing ...   \n",
       "\n",
       "                                             authors  \\\n",
       "0  [Yao Feng, Weiyang Liu, Timo Bolkart, Jinlong ...   \n",
       "1  [Saarthak Kapse, Srijan Das, Jingwei Zhang, Ra...   \n",
       "\n",
       "                                             summary  \\\n",
       "0  Tremendous efforts have been made to learn ani...   \n",
       "1  We propose DiRL, a Diversity-inducing Represen...   \n",
       "\n",
       "                             pdf_url             categories  \\\n",
       "0  http://arxiv.org/pdf/2309.06441v1  [cs.CV, cs.AI, cs.GR]   \n",
       "1  http://arxiv.org/pdf/2309.06439v1                [cs.CV]   \n",
       "\n",
       "                  published  \n",
       "0 2023-09-12 17:59:36+00:00  \n",
       "1 2023-09-12 17:59:10+00:00  "
      ]
     },
     "execution_count": 93,
     "metadata": {},
     "output_type": "execute_result"
    }
   ],
   "source": [
    "df"
   ]
  },
  {
   "cell_type": "code",
   "execution_count": 94,
   "id": "4810e769-9596-4f50-b119-a3820cc46016",
   "metadata": {},
   "outputs": [],
   "source": [
    "# python program to check if a path exists\n",
    "#if path doesn’t exist we create a new path\n",
    "from pathlib import Path\n",
    "#creating a new directory called pythondirectory\n",
    "Path(\"./papers\").mkdir(parents=True, exist_ok=True)"
   ]
  },
  {
   "cell_type": "code",
   "execution_count": 77,
   "id": "100c80a9-a778-43de-89ec-ff92e4ebd405",
   "metadata": {},
   "outputs": [],
   "source": [
    "# Method 2 to download pdfs\n",
    "id=1\n",
    "for result in search.results():\n",
    "    if len(df)!=0:\n",
    "        result.download_pdf(filename=\"./papers/downloaded-paper-{}.pdf\".format(id))\n",
    "        id=id+1\n",
    "    else:\n",
    "        print('No results were found.')"
   ]
  },
  {
   "cell_type": "code",
   "execution_count": 117,
   "id": "f6ec80c9-c1c5-4a2a-bd36-b1df76d0ae72",
   "metadata": {},
   "outputs": [
    {
     "name": "stdout",
     "output_type": "stream",
     "text": [
      "http://arxiv.org/pdf/2309.06441v1\n",
      "http://arxiv.org/pdf/2309.06439v1\n"
     ]
    }
   ],
   "source": [
    "# Method 2 to download pdfs\n",
    "from pathlib import Path\n",
    "import requests\n",
    "id=1\n",
    "for link in pdf_url:\n",
    "    print(link)\n",
    "    if len(pdf_url)!=0:\n",
    "        filename_=\"./papers/downloaded-paper-{}.pdf\".format(id)\n",
    "        filename = Path(filename_)\n",
    "        url = link\n",
    "        response = requests.get(url)\n",
    "        filename.write_bytes(response.content)\n",
    "        id=id+1\n",
    "    else:\n",
    "        print('No results were found.')"
   ]
  },
  {
   "cell_type": "code",
   "execution_count": 118,
   "id": "13e209ae-a007-4dde-9a8c-1e16b0d23f9e",
   "metadata": {},
   "outputs": [
    {
     "name": "stdout",
     "output_type": "stream",
     "text": [
      "2309.06441v1\n",
      "2309.06439v1\n"
     ]
    }
   ],
   "source": [
    "# Method 3 to download pdfs\n",
    "import sys\n",
    "import pyxiv\n",
    "for arxiv_id in entry_id:\n",
    "    arxiv_id=arxiv_id.replace(\"http://arxiv.org/abs/\",\"\")\n",
    "    print(arxiv_id)\n",
    "    if len(entry_id)!=0:\n",
    "        eprint = pyxiv.eprint_from_arxiv_id(arxiv_id)\n",
    "        eprint.download(\"./papers\")\n",
    "    else:\n",
    "        print('No results were found.')"
   ]
  },
  {
   "cell_type": "code",
   "execution_count": null,
   "id": "298ce216-0a5e-4584-ad2f-52b2d47546a6",
   "metadata": {},
   "outputs": [],
   "source": [
    "pyxiv.ePrint.download?"
   ]
  },
  {
   "cell_type": "code",
   "execution_count": 147,
   "id": "554879d4-b4c8-4306-83e8-9e4e484b8545",
   "metadata": {},
   "outputs": [],
   "source": [
    "#dir(eprint)"
   ]
  },
  {
   "cell_type": "code",
   "execution_count": null,
   "id": "f30bd39d-1cb2-4121-a663-b0abd9d3eab6",
   "metadata": {},
   "outputs": [],
   "source": [
    "Notes\n",
    "https://pypi.org/project/scidownl/\n",
    "http://lukasschwab.me/arxiv.py/index.html#example-fetching-results-with-a-custom-client\n",
    "https://github.com/blairbilodeau/arxiv-biorxiv-search/blob/master/arxiv_search_walkthrough.ipynb\n",
    "https://github.com/Tachyu/Arxiv-download\n",
    "https://github.com/tom2rd/arXivSearchPython\n",
    "https://github.com/enriquecallejascastro/arXiv-scrape/blob/main/arXiv-scrape.ipynb\n",
    "https://github.com/enriquecallejascastro/arXiv-scrape/blob/main/arXiv-scrape.ipynb\n",
    "https://github.com/MorenoLaQuatra/arxiv_search\n",
    "https://huggingface.co/spaces/Deci/DeciLM-6b-instruct"
   ]
  },
  {
   "cell_type": "code",
   "execution_count": null,
   "id": "6b5fd9be-859d-4ad7-9910-464213e78c6d",
   "metadata": {},
   "outputs": [],
   "source": []
  },
  {
   "cell_type": "code",
   "execution_count": null,
   "id": "eb3f74ed-ddbf-4dac-ab5b-4081da4a763d",
   "metadata": {},
   "outputs": [],
   "source": []
  },
  {
   "cell_type": "code",
   "execution_count": null,
   "id": "3f1a8bac-1e7a-4697-8b40-5f14042ea3bd",
   "metadata": {},
   "outputs": [],
   "source": []
  },
  {
   "cell_type": "code",
   "execution_count": null,
   "id": "83b48d23-12e9-484f-b861-564d2540ce9c",
   "metadata": {},
   "outputs": [],
   "source": []
  },
  {
   "cell_type": "code",
   "execution_count": null,
   "id": "71a92451-defb-47b6-ac64-357e4fa62929",
   "metadata": {},
   "outputs": [],
   "source": [
    "\n"
   ]
  },
  {
   "cell_type": "code",
   "execution_count": null,
   "id": "47b57b69-42e7-4939-a7a4-fe3015e09e27",
   "metadata": {},
   "outputs": [],
   "source": []
  },
  {
   "cell_type": "code",
   "execution_count": null,
   "id": "6ee259d1-12bd-475e-ab2b-2ffadf37ed09",
   "metadata": {},
   "outputs": [],
   "source": []
  },
  {
   "cell_type": "code",
   "execution_count": null,
   "id": "2ac1b8fb-05b9-4908-a654-5b97be213fc6",
   "metadata": {},
   "outputs": [],
   "source": []
  },
  {
   "cell_type": "code",
   "execution_count": 149,
   "id": "9e11437d-1801-4748-9af6-a09fd3086217",
   "metadata": {},
   "outputs": [],
   "source": [
    "#paper = next(arxiv.Search(id_list=[\"1605.08386v1\"]).results())\n",
    "# Download the PDF to the PWD with a default filename.\n",
    "#paper.download_pdf()"
   ]
  },
  {
   "cell_type": "code",
   "execution_count": 150,
   "id": "a7135fcc-eb1b-403f-9099-8b52f44083a5",
   "metadata": {},
   "outputs": [],
   "source": [
    "# Download the PDF to the PWD with a default filename.\n",
    "#result.download_pdf()"
   ]
  },
  {
   "cell_type": "code",
   "execution_count": null,
   "id": "a761e3fc-a03a-4e8f-be76-70b0792418e3",
   "metadata": {},
   "outputs": [],
   "source": []
  }
 ],
 "metadata": {
  "kernelspec": {
   "display_name": "Python (textgen)",
   "language": "python",
   "name": "texgen"
  },
  "language_info": {
   "codemirror_mode": {
    "name": "ipython",
    "version": 3
   },
   "file_extension": ".py",
   "mimetype": "text/x-python",
   "name": "python",
   "nbconvert_exporter": "python",
   "pygments_lexer": "ipython3",
   "version": "3.10.9"
  }
 },
 "nbformat": 4,
 "nbformat_minor": 5
}

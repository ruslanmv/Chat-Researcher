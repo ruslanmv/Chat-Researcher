{
 "cells": [
  {
   "cell_type": "markdown",
   "id": "adb6628e",
   "metadata": {},
   "source": [
    "## Example 5: Weekly Paper Downloader"
   ]
  },
  {
   "cell_type": "markdown",
   "id": "5e413f84",
   "metadata": {},
   "source": [
    "One possible use of `pyxiv` is to automate the research workflow. For example, it may be convenient to have a script that downloads all the e-prints submitted to a particular category in the past week about a specific topic. We can write such a function as follows."
   ]
  },
  {
   "cell_type": "code",
   "execution_count": 1,
   "id": "66383bb2",
   "metadata": {},
   "outputs": [],
   "source": [
    "import sys\n",
    "from datetime import date, timedelta\n",
    "sys.path.append(\"../\")\n",
    "import pyxiv\n",
    "\n",
    "def weekly_papers(topic: str, category: str, save_directory: str) -> None:\n",
    "    today_dt     = date.today() # today is May 11, 2023\n",
    "    last_week_dt = today_dt - timedelta(days=7)\n",
    "    last_week    = str(last_week_dt)\n",
    "\n",
    "    search = pyxiv.Search(\n",
    "        query = f\"all:{topic} AND cat:{category}\",\n",
    "        start_date = last_week\n",
    "    )\n",
    "    \n",
    "    search.download_results(save_directory)"
   ]
  },
  {
   "cell_type": "code",
   "execution_count": 2,
   "id": "25ab5262",
   "metadata": {},
   "outputs": [
    {
     "name": "stdout",
     "output_type": "stream",
     "text": [
      "Note: a value of `start_date` earlier than yesterday has been used. It may be necessary to increase `max_results` to ensure the query searches sufficiently far back in time. The maximum permitted value of `max_results` is 30,000.\n",
      "Acquiring query results from the arXiv API...\n",
      "Results acquired in 2.4 sec.\n",
      "Downloading e-prints...\n",
      "[ 1/11] 'Chemical and physical properties of cometary dust' (2305.03417v1)\n",
      "[ 2/11] 'Forbidden planetesimals' (2305.03562v1)\n",
      "[ 3/11] 'The surprising evolution of the shadow on the TW Hya disk' (2305.03611v1)\n",
      "[ 4/11] 'Spatially resolved imaging of the inner Fomalhaut disk using JWST/MIRI' (2305.03789v1)\n",
      "[ 5/11] 'Substructures in Compact Disks of the Taurus Star-forming Region' (2305.03862v2)\n",
      "[ 6/11] 'Three-Dimensional Dust Stirring by a Giant Planet Embedded in a\n",
      "  Protoplanetary Disk' (2305.04549v1)\n",
      "[ 7/11] 'On the nature of the planet-powered transient event ZTF SLRN-2020' (2305.04909v1)\n",
      "[ 8/11] 'Exoplanet Volatile Carbon Content as a Natural Pathway for Haze\n",
      "  Formation' (2305.05056v1)\n",
      "[ 9/11] 'RAM: Rapid Advection Algorithm on Arbitrary Meshes' (2305.05362v1)\n",
      "[10/11] '(433) Eros and (25143) Itokawa surface properties from reflectance\n",
      "  spectra' (2305.05700v1)\n",
      "[11/11] 'Reproduction Experiments of Radial Pyroxene Chondrules using Gas-jet\n",
      "  Levitation System under Reduced Condition' (2305.05787v1)\n",
      "Download complete! 11 e-prints (47.6 MiB) were downloaded in 35.4 sec and saved to ./papers.\n"
     ]
    }
   ],
   "source": [
    "weekly_papers(\"protoplanetary disks\", \"astro-ph.EP\", \"./papers\")"
   ]
  }
 ],
 "metadata": {
  "kernelspec": {
   "display_name": "Python 3 (ipykernel)",
   "language": "python",
   "name": "python3"
  },
  "language_info": {
   "codemirror_mode": {
    "name": "ipython",
    "version": 3
   },
   "file_extension": ".py",
   "mimetype": "text/x-python",
   "name": "python",
   "nbconvert_exporter": "python",
   "pygments_lexer": "ipython3",
   "version": "3.10.9"
  }
 },
 "nbformat": 4,
 "nbformat_minor": 5
}

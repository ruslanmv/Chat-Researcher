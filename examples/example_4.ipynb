{
 "cells": [
  {
   "cell_type": "markdown",
   "id": "6ef565cd",
   "metadata": {},
   "source": [
    "## Example 4: Downloading Results from an Author Query"
   ]
  },
  {
   "cell_type": "markdown",
   "id": "41d0aff8",
   "metadata": {},
   "source": [
    "In `example_2.ipynb`, we saw how to execute a search of the arXiv and download the results using the `Search` class. Other than determining the correct value of `query`, this process was quite straightforward. Thankfully, `pyxiv` includes two functions that simplify the generation of a valid query string. In this example, we explore the `author_query` function. To start, we import `pyxiv`."
   ]
  },
  {
   "cell_type": "code",
   "execution_count": 1,
   "id": "bd573683",
   "metadata": {},
   "outputs": [],
   "source": [
    "import sys\n",
    "sys.path.append(\"../\")\n",
    "import pyxiv"
   ]
  },
  {
   "cell_type": "markdown",
   "id": "6fd27250",
   "metadata": {},
   "source": [
    "We can view the documentation for the `keyword_query` function by running the following cell."
   ]
  },
  {
   "cell_type": "code",
   "execution_count": 2,
   "id": "2ada61d2",
   "metadata": {},
   "outputs": [],
   "source": [
    "pyxiv.author_query?"
   ]
  },
  {
   "cell_type": "markdown",
   "id": "03526378",
   "metadata": {},
   "source": [
    "To illustrate how `author_query` works, suppose we want to download all e-prints submitted to the arXiv by Prof. Will Percival from January 1, 2023 to today (May 11, 2023 when this example was written). `author_query` can be used to construct the query corresponding to these parameters like so."
   ]
  },
  {
   "cell_type": "code",
   "execution_count": 3,
   "id": "03fdcd8e",
   "metadata": {},
   "outputs": [
    {
     "name": "stdout",
     "output_type": "stream",
     "text": [
      "au:Will+AND+au:Percival\n"
     ]
    }
   ],
   "source": [
    "query = pyxiv.author_query(\n",
    "    first_name = \"Will\",\n",
    "    last_name  = \"Percival\"\n",
    ")\n",
    "print(query)"
   ]
  },
  {
   "cell_type": "markdown",
   "id": "8cf82f2f",
   "metadata": {},
   "source": [
    "Now that we have `query`, we can create the desired instance of `Search`."
   ]
  },
  {
   "cell_type": "code",
   "execution_count": 4,
   "id": "4a835139",
   "metadata": {},
   "outputs": [
    {
     "name": "stdout",
     "output_type": "stream",
     "text": [
      "Note: a value of `start_date` earlier than yesterday has been used. It may be necessary to increase `max_results` to ensure the query searches sufficiently far back in time. The maximum permitted value of `max_results` is 30,000.\n",
      "Acquiring query results from the arXiv API...\n",
      "Results acquired in 3.9 sec.\n"
     ]
    }
   ],
   "source": [
    "search = pyxiv.Search(\n",
    "    query      = query,\n",
    "    start_date = \"2023-01-01\"\n",
    ")"
   ]
  },
  {
   "cell_type": "markdown",
   "id": "294e1909",
   "metadata": {},
   "source": [
    "Here, we have taken advantage of the fact that `end_date` is today's date by default, meaning it does not need to be explicitly specified for this example.\n",
    "\n",
    "With `search` in place, we can view and download the search results."
   ]
  },
  {
   "cell_type": "code",
   "execution_count": 5,
   "id": "848690af",
   "metadata": {},
   "outputs": [
    {
     "name": "stdout",
     "output_type": "stream",
     "text": [
      "The specified query yielded 7 results:\n",
      "================================================\n",
      "arXiv.org e-Print 2302.01777v1\n",
      "================================================\n",
      "Title\n",
      "-----\n",
      "DESI z >~ 5 Quasar Survey. I. A First Sample of 400 New Quasars at z ~\n",
      "  4.7-6.6\n",
      "\n",
      "Author(s)\n",
      "---------\n",
      "Jinyi Yang, Xiaohui Fan, Ansh Gupta, Adam Myers, Nathalie Palanque-Delabrouille, Feige Wang, Christophe Yèche, Jessica Nicole Aguilar, Steven Ahlen, David Alexander, David Brooks, Kyle Dawson, Axel de la Macorra, Arjun Dey, Govinda Dhungana, Kevin Fanning, Andreu Font-Ribera, Satya Gontcho, Julien Guy, Klaus Honscheid, Stephanie Juneau, Theodore Kisner, Anthony Kremin, Laurent Le Guillou, Michael Levi, Christophe Magneville, Paul Martini, Aaron Meisner, Ramon Miquel, John Moustakas, Jundan Nie, Will Percival, Claire Poppett, Francisco Prada, Edward Schlafly, Gregory Tarlé, Mariana Vargas Magana, Benjamin Alan Weaver, Risa Wechsler, Rongpu Zhou, Zhimin Zhou, Hu Zou\n",
      "\n",
      "Primary category: astro-ph.GA\n",
      "URL: https://arxiv.org/pdf/2302.01777v1.pdf\n",
      "Submitted: 2023-02-03\n",
      "\n",
      "================================================\n",
      "arXiv.org e-Print 2302.11621v1\n",
      "================================================\n",
      "Title\n",
      "-----\n",
      "Isolating the linear signal when making redshift space distortion\n",
      "  measurements\n",
      "\n",
      "Author(s)\n",
      "---------\n",
      "Michael J. Chapman, Zhongxu Zhai, Will J. Percival\n",
      "\n",
      "Primary category: astro-ph.CO\n",
      "URL: https://arxiv.org/pdf/2302.11621v1.pdf\n",
      "Submitted: 2023-02-22\n",
      "\n",
      "================================================\n",
      "arXiv.org e-Print 2302.13760v1\n",
      "================================================\n",
      "Title\n",
      "-----\n",
      "Target Selection for the DESI Peculiar Velocity Survey\n",
      "\n",
      "Author(s)\n",
      "---------\n",
      "Christoph Saulder, Cullan Howlett, Kelly A. Douglass, Khaled Said, Segev BenZvi, Steven Ahlen, Greg Aldering, Stephen Bailey, David Brooks, Tamara Davis, Axel de la Macorra, Arjun Dey, Andreu Font-Ribera, Jaime E. Forero-Romero, Satya Gontcho A Gontcho, Klaus Honscheid, Alex G. Kim, Theodore Kisner, Anthony Kremin, Martin Landriau, Michael E. Levi, John Lucey, Aaron M. Meisner, Ramon Miquel, John Moustakas, Adam D. Myers, Nathalie Palanque-Delabrouille, Will Percival, Claire Poppett, Francisco Prada, Fei Qin, Michael Schubnell, Gregory Tarlé, Mariana Vargas Magaña, Benjamin Alan Weaver, Rongpu Zhou, Zhimin Zhou, Hu Zou\n",
      "\n",
      "Primary category: astro-ph.CO\n",
      "URL: https://arxiv.org/pdf/2302.13760v1.pdf\n",
      "Submitted: 2023-02-27\n",
      "\n",
      "================================================\n",
      "arXiv.org e-Print 2303.05717v1\n",
      "================================================\n",
      "Title\n",
      "-----\n",
      "The effective volume of supernovae samples and sample variance\n",
      "\n",
      "Author(s)\n",
      "---------\n",
      "Zhongxu Zhai, Will J. Percival\n",
      "\n",
      "Primary category: astro-ph.CO\n",
      "URL: https://arxiv.org/pdf/2303.05717v1.pdf\n",
      "Submitted: 2023-03-10\n",
      "\n",
      "================================================\n",
      "arXiv.org e-Print 2303.06143v1\n",
      "================================================\n",
      "Title\n",
      "-----\n",
      "Cosmological measurements from void-galaxy and galaxy-galaxy clustering\n",
      "  in the Sloan Digital Sky Survey\n",
      "\n",
      "Author(s)\n",
      "---------\n",
      "Alex Woodfinden, Will J. Percival, Seshadri Nadathur, Hans A. Winther, T. S. Fraser, Elena Massara, Enrique Paillas, Slađana Radinović\n",
      "\n",
      "Primary category: astro-ph.CO\n",
      "URL: https://arxiv.org/pdf/2303.06143v1.pdf\n",
      "Submitted: 2023-03-10\n",
      "\n",
      "================================================\n",
      "arXiv.org e-Print 2303.17095v1\n",
      "================================================\n",
      "Title\n",
      "-----\n",
      "Small scale clustering of BOSS galaxies: dependence on luminosity,\n",
      "  color, age, stellar mass, specific star formation rate and other properties\n",
      "\n",
      "Author(s)\n",
      "---------\n",
      "Zhongxu Zhai, Will J. Percival, Hong Guo\n",
      "\n",
      "Primary category: astro-ph.CO\n",
      "URL: https://arxiv.org/pdf/2303.17095v1.pdf\n",
      "Submitted: 2023-03-30\n",
      "\n",
      "================================================\n",
      "arXiv.org e-Print 2304.08427v1\n",
      "================================================\n",
      "Title\n",
      "-----\n",
      "First Detection of the BAO Signal from Early DESI Data\n",
      "\n",
      "Author(s)\n",
      "---------\n",
      "Jeongin Moon, David Valcin, Michael Rashkovetskyi, Christoph Saulder, Jessica Nicole Aguilar, Steven Ahlen, Shadab Alam, Stephen Bailey, Charles Baltay, Robert Blum, David Brooks, Etienne Burtin, Edmond Chaussidon, Kyle Dawson, Axel de la Macorra, Arnaud de Mattia, Govinda Dhungana, Daniel Eisenstein, Brenna Flaugher, Andreu Font-Ribera, Cristhian Garcia-Quintero, Julien Guy, Malik Muhammad Sikandar Hanif, Klaus Honscheid, Mustapha Ishak, Robert Kehoe, Sumi Kim, Theodore Kisner, Anthony Kremin, Martin Landriau, Laurent Le Guillou, Michael Levi, Paul Martini, Patrick McDonald, Aaron Meisner, Ramon Miquel, John Moustakas, Adam Myers, Seshadri Nadathur, Richard Neveux, Jeffrey A. Newman, Jundan Nie, Nikhil Padmanabhan, Nathalie Palanque-Delabrouille, Will Percival, Alejandro Pérez Fernández, Claire Poppett, Francisco Prada, Ashley J. Ross, Graziano Rossi, Hee-Jong Seo, Gregory Tarlé, Mariana Vargas Magana, Andrei Variu, Benjamin Alan Weaver, Martin J. White, Sihan Yuan, Cheng Zhao, Rongpu Zhou, Zhimin Zhou, Hu Zou\n",
      "\n",
      "Primary category: astro-ph.CO\n",
      "URL: https://arxiv.org/pdf/2304.08427v1.pdf\n",
      "Submitted: 2023-04-17\n"
     ]
    }
   ],
   "source": [
    "results = search.results()\n",
    "print(results)"
   ]
  },
  {
   "cell_type": "code",
   "execution_count": 6,
   "id": "7d475199",
   "metadata": {},
   "outputs": [
    {
     "name": "stdout",
     "output_type": "stream",
     "text": [
      "Downloading e-prints...\n",
      "[1/7] 'DESI z >~ 5 Quasar Survey. I. A First Sample of 400 New Quasars at z ~\n",
      "  4.7-6.6' (2302.01777v1)\n",
      "[2/7] 'Isolating the linear signal when making redshift space distortion\n",
      "  measurements' (2302.11621v1)\n",
      "[3/7] 'Target Selection for the DESI Peculiar Velocity Survey' (2302.13760v1)\n",
      "[4/7] 'The effective volume of supernovae samples and sample variance' (2303.05717v1)\n",
      "[5/7] 'Cosmological measurements from void-galaxy and galaxy-galaxy clustering\n",
      "  in the Sloan Digital Sky Survey' (2303.06143v1)\n",
      "[6/7] 'Small scale clustering of BOSS galaxies: dependence on luminosity,\n",
      "  color, age, stellar mass, specific star formation rate and other properties' (2303.17095v1)\n",
      "[7/7] 'First Detection of the BAO Signal from Early DESI Data' (2304.08427v1)\n",
      "Download complete! 7 e-prints (36.5 MiB) were downloaded in 27.4 sec and saved to ./papers.\n"
     ]
    },
    {
     "data": {
      "text/plain": [
       "['./papers/2302.01777v1.pdf',\n",
       " './papers/2302.11621v1.pdf',\n",
       " './papers/2302.13760v1.pdf',\n",
       " './papers/2303.05717v1.pdf',\n",
       " './papers/2303.06143v1.pdf',\n",
       " './papers/2303.17095v1.pdf',\n",
       " './papers/2304.08427v1.pdf']"
      ]
     },
     "execution_count": 6,
     "metadata": {},
     "output_type": "execute_result"
    }
   ],
   "source": [
    "search.download_results(\"./papers\")"
   ]
  }
 ],
 "metadata": {
  "kernelspec": {
   "display_name": "Python 3 (ipykernel)",
   "language": "python",
   "name": "python3"
  },
  "language_info": {
   "codemirror_mode": {
    "name": "ipython",
    "version": 3
   },
   "file_extension": ".py",
   "mimetype": "text/x-python",
   "name": "python",
   "nbconvert_exporter": "python",
   "pygments_lexer": "ipython3",
   "version": "3.10.9"
  }
 },
 "nbformat": 4,
 "nbformat_minor": 5
}

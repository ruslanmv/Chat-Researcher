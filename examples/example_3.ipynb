{
 "cells": [
  {
   "cell_type": "markdown",
   "id": "8ce55b9e",
   "metadata": {},
   "source": [
    "## Example 3: Downloading Results from a Keyword Query"
   ]
  },
  {
   "cell_type": "markdown",
   "id": "dd5e61e4",
   "metadata": {},
   "source": [
    "In `example_2.ipynb`, we saw how to execute a search of the arXiv and download the results using the `Search` class. Other than determining the correct value of `query`, this process was quite straightforward. Thankfully, `pyxiv` includes two functions that simplify the generation of a valid query string. In this example, we explore the `keyword_query` function. To start, we import `pyxiv`."
   ]
  },
  {
   "cell_type": "code",
   "execution_count": 1,
   "id": "e9630cfb",
   "metadata": {},
   "outputs": [],
   "source": [
    "import sys\n",
    "sys.path.append(\"../\")\n",
    "import pyxiv"
   ]
  },
  {
   "cell_type": "markdown",
   "id": "ab325152",
   "metadata": {},
   "source": [
    "We can view the documentation for the `keyword_query` function by running the following cell."
   ]
  },
  {
   "cell_type": "code",
   "execution_count": 2,
   "id": "782e756f",
   "metadata": {},
   "outputs": [],
   "source": [
    "pyxiv.keyword_query?"
   ]
  },
  {
   "cell_type": "markdown",
   "id": "931bf612",
   "metadata": {},
   "source": [
    "To illustrate how `keyword_query` works, suppose we want to download all e-prints submitted to the arXiv yesterday (May 10, 2023 when this example was written) that have 'LIGO' and 'gravitational waves' in their abstracts. `keyword_query` can be used to construct the query corresponding to these parameters like so."
   ]
  },
  {
   "cell_type": "code",
   "execution_count": 3,
   "id": "13e04458",
   "metadata": {},
   "outputs": [
    {
     "name": "stdout",
     "output_type": "stream",
     "text": [
      "abs:LIGO+AND+abs:gravitational waves\n"
     ]
    }
   ],
   "source": [
    "query = pyxiv.keyword_query(\n",
    "    keywords   = [\"LIGO\", \"gravitational waves\"],\n",
    "    field_type = \"abs\",\n",
    "    logical    = \"AND\"\n",
    ")\n",
    "print(query)"
   ]
  },
  {
   "cell_type": "markdown",
   "id": "b7d6658a",
   "metadata": {},
   "source": [
    "As stated in `example_2.ipynb`, the space in `\"gravitational waves\"` will get replaced by a + within `Search`. Now that we have `query`, we can create the desired instance of `Search`."
   ]
  },
  {
   "cell_type": "code",
   "execution_count": 4,
   "id": "c039560c",
   "metadata": {},
   "outputs": [
    {
     "name": "stdout",
     "output_type": "stream",
     "text": [
      "Acquiring query results from the arXiv API...\n",
      "Results acquired in 6.0 sec.\n"
     ]
    }
   ],
   "source": [
    "search = pyxiv.Search(\n",
    "    query      = query,\n",
    "    start_date = \"yesterday\",\n",
    "    end_date   = \"yesterday\"\n",
    ")"
   ]
  },
  {
   "cell_type": "markdown",
   "id": "8dc77564",
   "metadata": {},
   "source": [
    "Here, we have used the shortcut `\"yesterday\"` for `start_date` and `end_date`; this will get converted to a valid date string within `Search`. Note that because `\"yesterday\"` is being used and not `\"2023-05-10\"` explicitly, the e-prints returned by the search will be different if this notebook is run on a date other than May 11, 2023.\n",
    "\n",
    "With `search` in place, we can view and download the search results."
   ]
  },
  {
   "cell_type": "code",
   "execution_count": 5,
   "id": "060dfe92",
   "metadata": {},
   "outputs": [
    {
     "name": "stdout",
     "output_type": "stream",
     "text": [
      "The specified query yielded 2 results:\n",
      "================================================\n",
      "arXiv.org e-Print 2305.05844v1\n",
      "================================================\n",
      "Title\n",
      "-----\n",
      "Constraining gravitational wave amplitude birefringence with GWTC-3\n",
      "\n",
      "Author(s)\n",
      "---------\n",
      "Thomas C. K. Ng, Maximiliano Isi, Kaze W. K. Wong, Will M. Farr\n",
      "\n",
      "Primary category: gr-qc\n",
      "URL: https://arxiv.org/pdf/2305.05844v1.pdf\n",
      "Submitted: 2023-05-10\n",
      "\n",
      "================================================\n",
      "arXiv.org e-Print 2305.06286v1\n",
      "================================================\n",
      "Title\n",
      "-----\n",
      "Improved ranking statistics of the GstLAL inspiral search for compact\n",
      "  binary coalescences\n",
      "\n",
      "Author(s)\n",
      "---------\n",
      "Leo Tsukada, Prathamesh Joshi, Shomik Adhicary, Richard George, Andre Guimaraes, Chad Hanna, Ryan Magee, Aaron Zimmerman, Pratyusava Baral, Amanda Baylor, Kipp Cannon, Sarah Caudill, Bryce Cousins, Jolien D. E. Creighton, Becca Ewing, Heather Fong, Patrick Godwin, Reiko Harada, Yun-Jing Huang, Rachael Huxford, James Kennington, Soichiro Kuwahara, Alvin K. Y. Li, Duncan Meacher, Cody Messick, Soichiro Morisaki, Debnandini Mukherjee, Wanting Niu, Alex Pace, Cort Posnansky, Anarya Ray, Surabhi Sachdev, Shio Sakon, Divya Singh, Ron Tapia, Takuya Tsutsui, Koh Ueno, Aaron Viets, Leslie Wade, Madeline Wade\n",
      "\n",
      "Primary category: astro-ph.IM\n",
      "URL: https://arxiv.org/pdf/2305.06286v1.pdf\n",
      "Submitted: 2023-05-10\n"
     ]
    }
   ],
   "source": [
    "results = search.results()\n",
    "print(results)"
   ]
  },
  {
   "cell_type": "code",
   "execution_count": 6,
   "id": "feba365b",
   "metadata": {},
   "outputs": [
    {
     "name": "stdout",
     "output_type": "stream",
     "text": [
      "Downloading e-prints...\n",
      "[1/2] 'Constraining gravitational wave amplitude birefringence with GWTC-3' (2305.05844v1)\n",
      "[2/2] 'Improved ranking statistics of the GstLAL inspiral search for compact\n",
      "  binary coalescences' (2305.06286v1)\n",
      "Download complete! 2 e-prints (11.5 MiB) were downloaded in 7.6 sec and saved to ./papers.\n"
     ]
    },
    {
     "data": {
      "text/plain": [
       "['./papers/2305.05844v1.pdf', './papers/2305.06286v1.pdf']"
      ]
     },
     "execution_count": 6,
     "metadata": {},
     "output_type": "execute_result"
    }
   ],
   "source": [
    "search.download_results(\"./papers\")"
   ]
  }
 ],
 "metadata": {
  "kernelspec": {
   "display_name": "Python 3 (ipykernel)",
   "language": "python",
   "name": "python3"
  },
  "language_info": {
   "codemirror_mode": {
    "name": "ipython",
    "version": 3
   },
   "file_extension": ".py",
   "mimetype": "text/x-python",
   "name": "python",
   "nbconvert_exporter": "python",
   "pygments_lexer": "ipython3",
   "version": "3.10.9"
  }
 },
 "nbformat": 4,
 "nbformat_minor": 5
}

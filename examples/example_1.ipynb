{
 "cells": [
  {
   "cell_type": "markdown",
   "id": "75e0f0ac",
   "metadata": {},
   "source": [
    "## Example 1: Downloading an e-Print Using Its arXiv ID"
   ]
  },
  {
   "cell_type": "markdown",
   "id": "667a15da",
   "metadata": {},
   "source": [
    "In this example, we'll get a feel for the fundamental class of the `pyxiv` library: the `ePrint` dataclass. `ePrint` provides us with a Python representation of the data (authors, title, abstract, etc.) of an e-print submitted to the [arXiv](arxiv.org). To start, we import `pyxiv`."
   ]
  },
  {
   "cell_type": "code",
   "execution_count": 1,
   "id": "29c9fd4c",
   "metadata": {},
   "outputs": [],
   "source": [
    "import sys\n",
    "sys.path.append(\"../\")\n",
    "import pyxiv"
   ]
  },
  {
   "cell_type": "markdown",
   "id": "5c872912",
   "metadata": {},
   "source": [
    "To view the basics of the `ePrint` class, including its parameters and intended usage, we can run the following cell."
   ]
  },
  {
   "cell_type": "code",
   "execution_count": 2,
   "id": "0b14ef8a",
   "metadata": {},
   "outputs": [
    {
     "data": {
      "text/plain": [
       "\u001b[1;31mInit signature:\u001b[0m\n",
       "\u001b[0mpyxiv\u001b[0m\u001b[1;33m.\u001b[0m\u001b[0mePrint\u001b[0m\u001b[1;33m(\u001b[0m\u001b[1;33m\n",
       "\u001b[0m    \u001b[0mtitle\u001b[0m\u001b[1;33m:\u001b[0m \u001b[0mstr\u001b[0m\u001b[1;33m,\u001b[0m\u001b[1;33m\n",
       "\u001b[0m    \u001b[0mauthors\u001b[0m\u001b[1;33m:\u001b[0m \u001b[0mlist\u001b[0m\u001b[1;33m[\u001b[0m\u001b[0mstr\u001b[0m\u001b[1;33m]\u001b[0m\u001b[1;33m,\u001b[0m\u001b[1;33m\n",
       "\u001b[0m    \u001b[0mabstract\u001b[0m\u001b[1;33m:\u001b[0m \u001b[0mstr\u001b[0m\u001b[1;33m,\u001b[0m\u001b[1;33m\n",
       "\u001b[0m    \u001b[0mcomment\u001b[0m\u001b[1;33m:\u001b[0m \u001b[0mOptional\u001b[0m\u001b[1;33m[\u001b[0m\u001b[0mstr\u001b[0m\u001b[1;33m]\u001b[0m\u001b[1;33m,\u001b[0m\u001b[1;33m\n",
       "\u001b[0m    \u001b[0mprimary_category\u001b[0m\u001b[1;33m:\u001b[0m \u001b[0mstr\u001b[0m\u001b[1;33m,\u001b[0m\u001b[1;33m\n",
       "\u001b[0m    \u001b[0mall_categories\u001b[0m\u001b[1;33m:\u001b[0m \u001b[0mlist\u001b[0m\u001b[1;33m[\u001b[0m\u001b[0mstr\u001b[0m\u001b[1;33m]\u001b[0m\u001b[1;33m,\u001b[0m\u001b[1;33m\n",
       "\u001b[0m    \u001b[0marxiv_id\u001b[0m\u001b[1;33m:\u001b[0m \u001b[0mstr\u001b[0m\u001b[1;33m,\u001b[0m\u001b[1;33m\n",
       "\u001b[0m    \u001b[0mabs_url\u001b[0m\u001b[1;33m:\u001b[0m \u001b[0mstr\u001b[0m\u001b[1;33m,\u001b[0m\u001b[1;33m\n",
       "\u001b[0m    \u001b[0mpdf_url\u001b[0m\u001b[1;33m:\u001b[0m \u001b[0mstr\u001b[0m\u001b[1;33m,\u001b[0m\u001b[1;33m\n",
       "\u001b[0m    \u001b[0mdoi\u001b[0m\u001b[1;33m:\u001b[0m \u001b[0mOptional\u001b[0m\u001b[1;33m[\u001b[0m\u001b[0mstr\u001b[0m\u001b[1;33m]\u001b[0m\u001b[1;33m,\u001b[0m\u001b[1;33m\n",
       "\u001b[0m    \u001b[0mdoi_url\u001b[0m\u001b[1;33m:\u001b[0m \u001b[0mOptional\u001b[0m\u001b[1;33m[\u001b[0m\u001b[0mstr\u001b[0m\u001b[1;33m]\u001b[0m\u001b[1;33m,\u001b[0m\u001b[1;33m\n",
       "\u001b[0m    \u001b[0mjournal_ref\u001b[0m\u001b[1;33m:\u001b[0m \u001b[0mOptional\u001b[0m\u001b[1;33m[\u001b[0m\u001b[0mstr\u001b[0m\u001b[1;33m]\u001b[0m\u001b[1;33m,\u001b[0m\u001b[1;33m\n",
       "\u001b[0m    \u001b[0mdate_submitted\u001b[0m\u001b[1;33m:\u001b[0m \u001b[0mdatetime\u001b[0m\u001b[1;33m.\u001b[0m\u001b[0mdate\u001b[0m\u001b[1;33m,\u001b[0m\u001b[1;33m\n",
       "\u001b[0m    \u001b[0mdate_updated\u001b[0m\u001b[1;33m:\u001b[0m \u001b[0mdatetime\u001b[0m\u001b[1;33m.\u001b[0m\u001b[0mdate\u001b[0m\u001b[1;33m,\u001b[0m\u001b[1;33m\n",
       "\u001b[0m\u001b[1;33m)\u001b[0m \u001b[1;33m->\u001b[0m \u001b[1;32mNone\u001b[0m\u001b[1;33m\u001b[0m\u001b[1;33m\u001b[0m\u001b[0m\n",
       "\u001b[1;31mDocstring:\u001b[0m     \n",
       "Class for storing the data associated with an e-print available on\n",
       "arxiv.org. This class is not intended for manual use (i.e. the\n",
       "values of the class arguments should be obtained *only* from a\n",
       "query of the arXiv API and not specified by hand).\n",
       "\n",
       "Parameters\n",
       "----------\n",
       "title : str\n",
       "    The title of the arXiv e-print.\n",
       "authors : list[str]\n",
       "    The author(s) of the arXiv e-print.\n",
       "abstract : str\n",
       "    The abstract of the arXiv e-print.\n",
       "comment : Union[str, None]\n",
       "    Any comments associated with the arXiv e-print.\n",
       "    Note: not all e-prints have associated comments. In this case,\n",
       "    it is recommended to set `comment` to `None`.\n",
       "primary_category : str\n",
       "    The primary category associated with the arXiv e-print\n",
       "    (e.g. astro-ph.EP).\n",
       "all_categories : list[str]\n",
       "    All categories associated with the arXiv e-print.\n",
       "arxiv_id : str\n",
       "    The arXiv ID of the arXiv e-print.\n",
       "abs_url : str\n",
       "    The URL of the abstract of the arXiv e-print.\n",
       "pdf_url : str\n",
       "    The URL of the .pdf of the arXiv e-print.\n",
       "doi : Union[str, None]\n",
       "    The DOI of the publication associated with the arXiv e-print.\n",
       "    Note: not all e-prints are associated with a publication that\n",
       "    has a DOI. In this case, it is recommended to set `doi` to\n",
       "    `None`.\n",
       "doi_url : Union[str, None]\n",
       "    The DOI URL of the publication associated with the arXiv\n",
       "    e-print. Note: not all e-prints are associated with a\n",
       "    publication that has a DOI. In this case, it is recommended to\n",
       "    set `doi_url` to `None`.\n",
       "journal_ref : Union[str, None]\n",
       "    The journal reference of the publication associated with the\n",
       "    arXiv e-print. Note: not all e-prints are associated with a \n",
       "    publication. In this case, it is recommended to set\n",
       "    `journal_ref` to `None`.\n",
       "date_submitted : datetime.date\n",
       "    The date the arXiv e-print was submitted. Note that the date an\n",
       "    e-print was submitted does not necessarily correspond to the\n",
       "    date it became available to the public.\n",
       "date_updated : datetime.date\n",
       "    The date the arXiv e-print was last updated.\n",
       "\u001b[1;31mFile:\u001b[0m           c:\\users\\rusla\\dropbox\\23-github\\projects\\chat-research\\pyxiv\\eprint.py\n",
       "\u001b[1;31mType:\u001b[0m           type\n",
       "\u001b[1;31mSubclasses:\u001b[0m     "
      ]
     },
     "metadata": {},
     "output_type": "display_data"
    }
   ],
   "source": [
    "pyxiv.ePrint?"
   ]
  },
  {
   "cell_type": "markdown",
   "id": "4aefee67",
   "metadata": {},
   "source": [
    "As we can see in the docstring for `ePrint`, this is not a class intended for manual use. After all, having to enter all the fields of an arXiv e-print by hand defeats the purpose of a code that is supposed to automate interactions with the arXiv. So, if manual specification isn't the intended approach, how do we create instances of the `ePrint` class?\n",
    "\n",
    "The answer is the handy function `eprint_from_arxiv_id`. This function allows us to generate an instance of the `ePrint` class using the arXiv ID (represented as a string) of an e-print of interest. In other words, `pyxiv` can obtain all of the interesting information about an arXiv e-print from just its ID.\n",
    "\n",
    "For example, suppose we are interested in the e-print 2203.17185. Using `eprint_from_arxiv_id`, we can generate an `ePrint` object that represents 2203.17185 as follows:"
   ]
  },
  {
   "cell_type": "code",
   "execution_count": 3,
   "id": "cfdb617e",
   "metadata": {},
   "outputs": [],
   "source": [
    "eprint = pyxiv.eprint_from_arxiv_id(\"2203.17185\")"
   ]
  },
  {
   "cell_type": "markdown",
   "id": "a0979ade",
   "metadata": {},
   "source": [
    "To learn more about this e-print, we can call the `summary` method. This method returns a string that lists the e-print's data in any easy-to-read format. To view the details of the `summary` method, we can run the following cell."
   ]
  },
  {
   "cell_type": "code",
   "execution_count": 4,
   "id": "470c5401",
   "metadata": {},
   "outputs": [
    {
     "data": {
      "text/plain": [
       "\u001b[1;31mSignature:\u001b[0m \u001b[0mpyxiv\u001b[0m\u001b[1;33m.\u001b[0m\u001b[0mePrint\u001b[0m\u001b[1;33m.\u001b[0m\u001b[0msummary\u001b[0m\u001b[1;33m(\u001b[0m\u001b[0mself\u001b[0m\u001b[1;33m,\u001b[0m \u001b[0mdetail\u001b[0m\u001b[1;33m:\u001b[0m \u001b[0mstr\u001b[0m \u001b[1;33m=\u001b[0m \u001b[1;34m'low'\u001b[0m\u001b[1;33m)\u001b[0m \u001b[1;33m->\u001b[0m \u001b[0mstr\u001b[0m\u001b[1;33m\u001b[0m\u001b[1;33m\u001b[0m\u001b[0m\n",
       "\u001b[1;31mDocstring:\u001b[0m\n",
       "Method that generates a summary of the data associated with the\n",
       "arXiv e-print represented by the given instance of `ePrint`.\n",
       "Two levels of detail are possible: `'low'` and `'high'`.\n",
       "\n",
       "Parameters\n",
       "----------\n",
       "detail : str, default 'low'\n",
       "    Controls the level of detail included in the summary. If\n",
       "    set to `'high'`, all relevant fields are included. If set\n",
       "    to `'low'`, `abstract`, `comment`, `all_categories`, `doi`,\n",
       "    `journal_ref`, and `date_updated` are omitted.\n",
       "\n",
       "Returns\n",
       "-------\n",
       "str\n",
       "    Summary of the data associated with the arXiv e-print.\n",
       "\u001b[1;31mFile:\u001b[0m      c:\\users\\rusla\\dropbox\\23-github\\projects\\chat-research\\pyxiv\\eprint.py\n",
       "\u001b[1;31mType:\u001b[0m      function"
      ]
     },
     "metadata": {},
     "output_type": "display_data"
    }
   ],
   "source": [
    "pyxiv.ePrint.summary?"
   ]
  },
  {
   "cell_type": "markdown",
   "id": "66e894a6",
   "metadata": {},
   "source": [
    "The main feature of `summary` is that the level of detail it offers can be optionally specified. By default, `detail` is set to `\"low\"` (i.e. `summary()` and `summary(detail=\"low\")` produce identical results). Calling `summary` on `eprint`, we get the following basic information about 2203.17185."
   ]
  },
  {
   "cell_type": "code",
   "execution_count": 5,
   "id": "6c0e99e6",
   "metadata": {},
   "outputs": [
    {
     "name": "stdout",
     "output_type": "stream",
     "text": [
      "================================================\n",
      "arXiv.org e-Print 2203.17185v1\n",
      "================================================\n",
      "Title\n",
      "-----\n",
      "First Detections of Exop(lan)ets: Observations and Follow-Ups of the\n",
      "  Floofiest Transits on Zoom\n",
      "\n",
      "Author(s)\n",
      "---------\n",
      "Sabina Sagynbayeva, Briley L. Lewis, Graham M. Doskoch, Ali Crisp, Catherine A. Clark, Katya Gozman, Gourav Khullar, Haley Wahl, Jenny K. Calahan, Mark Popinchalk, Samuel Factor, Macy Huston, Pratik Gandhi, Isabella Trierweiler, Suchitra Narayanan, Jonathan Brande, Michael M. Foley, Olivia R. Cooper, Ben Cassese\n",
      "\n",
      "Primary category: astro-ph.EP\n",
      "URL: https://arxiv.org/pdf/2203.17185v1.pdf\n",
      "Submitted: 2022-03-31\n"
     ]
    }
   ],
   "source": [
    "summary = eprint.summary()\n",
    "print(summary)"
   ]
  },
  {
   "cell_type": "markdown",
   "id": "edcfc645",
   "metadata": {},
   "source": [
    "For a more detailed listing of this e-print's data, we can set `detail` to `\"high\"`."
   ]
  },
  {
   "cell_type": "code",
   "execution_count": 6,
   "id": "9295bd56",
   "metadata": {},
   "outputs": [
    {
     "name": "stdout",
     "output_type": "stream",
     "text": [
      "================================================\n",
      "arXiv.org e-Print 2203.17185v1\n",
      "================================================\n",
      "Title\n",
      "-----\n",
      "First Detections of Exop(lan)ets: Observations and Follow-Ups of the\n",
      "  Floofiest Transits on Zoom\n",
      "\n",
      "Author(s)\n",
      "---------\n",
      "Sabina Sagynbayeva, Briley L. Lewis, Graham M. Doskoch, Ali Crisp, Catherine A. Clark, Katya Gozman, Gourav Khullar, Haley Wahl, Jenny K. Calahan, Mark Popinchalk, Samuel Factor, Macy Huston, Pratik Gandhi, Isabella Trierweiler, Suchitra Narayanan, Jonathan Brande, Michael M. Foley, Olivia R. Cooper, Ben Cassese\n",
      "\n",
      "Abstract\n",
      "--------\n",
      "With the proliferation of online Zoom meetings as a means of doing science in\n",
      "the 2020s, astronomers have made new and unexpected Target of Opportunity (ToO)\n",
      "observations. Chief among these ToOs are observations of exop(lan)ets, or\n",
      "\"exopets.\" Building on the work of Mayorga et al. (2021) - whose work\n",
      "characterized the rotational variations of \"floofy\" objects - we model exopets\n",
      "using methods similar to those used for exoplanetary transits. We present data\n",
      "collected for such exopet Zoom transits through a citizen science program in\n",
      "the month of February 2022. The dataset includes parameters like exopet color,\n",
      "floofiness, transit duration, and percentage of Zoom screen covered during the\n",
      "event. For some targets, we also present microlensing and direct imaging data.\n",
      "Using results from our modelling of 62 exopet observations as transits,\n",
      "microlensing, and direct imaging events, we discuss our inferences of exopet\n",
      "characteristics like their masses, sizes, orbits, colors, and floofiness.\n",
      "\n",
      "Comment: 21 pages, 14 figures, 3 tables, 62 floofers\n",
      "Primary category: astro-ph.EP\n",
      "All categories: astro-ph.EP, astro-ph.IM\n",
      "URL: https://arxiv.org/pdf/2203.17185v1.pdf\n",
      "DOI: None\n",
      "Journal reference: None\n",
      "Submitted: 2022-03-31\n",
      "Last updated: 2022-03-31\n"
     ]
    }
   ],
   "source": [
    "summary = eprint.summary(detail=\"high\")\n",
    "print(summary)"
   ]
  },
  {
   "cell_type": "markdown",
   "id": "2975baa5",
   "metadata": {},
   "source": [
    "Notice that `detail = \"high\"` adds information about the abstract, comments, any additional categories the e-print is included in, DOI (if applicable), journal reference (if applicable), and the date the e-print was last updated.\n",
    "\n",
    "On the topic of the date an e-print was last updated, arXiv e-prints can have multiple submitted versions. If the version number is left unspecified, `eprint_from_arxiv_id` defaults to the most recent version of the e-print. To access past version of the e-print, the version number must be specified.\n",
    "\n",
    "For example, the most recent version of 1308.4150 is 1308.4150v3. Therefore, `eprint_from_arxiv_id(\"1308.4150\")` and `eprint_from_arxiv_id(\"1308.4150v3\")` produce identical results."
   ]
  },
  {
   "cell_type": "code",
   "execution_count": 7,
   "id": "e5c7ac75",
   "metadata": {},
   "outputs": [
    {
     "name": "stdout",
     "output_type": "stream",
     "text": [
      "================================================\n",
      "arXiv.org e-Print 1308.4150v3\n",
      "================================================\n",
      "Title\n",
      "-----\n",
      "Damn You, Little h! (or, Real-World Applications Of The Hubble Constant\n",
      "  Using Observed And Simulated Data)\n",
      "\n",
      "Author(s)\n",
      "---------\n",
      "Darren Croton\n",
      "\n",
      "Primary category: astro-ph.CO\n",
      "URL: https://arxiv.org/pdf/1308.4150v3.pdf\n",
      "Submitted: 2013-08-19\n"
     ]
    }
   ],
   "source": [
    "eprint_default  = pyxiv.eprint_from_arxiv_id(\"1308.4150\")\n",
    "summary_default = eprint_default.summary()\n",
    "print(summary_default)"
   ]
  },
  {
   "cell_type": "code",
   "execution_count": 8,
   "id": "978db587",
   "metadata": {},
   "outputs": [
    {
     "name": "stdout",
     "output_type": "stream",
     "text": [
      "================================================\n",
      "arXiv.org e-Print 1308.4150v3\n",
      "================================================\n",
      "Title\n",
      "-----\n",
      "Damn You, Little h! (or, Real-World Applications Of The Hubble Constant\n",
      "  Using Observed And Simulated Data)\n",
      "\n",
      "Author(s)\n",
      "---------\n",
      "Darren Croton\n",
      "\n",
      "Primary category: astro-ph.CO\n",
      "URL: https://arxiv.org/pdf/1308.4150v3.pdf\n",
      "Submitted: 2013-08-19\n"
     ]
    }
   ],
   "source": [
    "eprint_v3  = pyxiv.eprint_from_arxiv_id(\"1308.4150v3\")\n",
    "summary_v3 = eprint_v3.summary()\n",
    "print(summary_v3)"
   ]
  },
  {
   "cell_type": "code",
   "execution_count": 9,
   "id": "eaa312dc",
   "metadata": {},
   "outputs": [
    {
     "data": {
      "text/plain": [
       "True"
      ]
     },
     "execution_count": 9,
     "metadata": {},
     "output_type": "execute_result"
    }
   ],
   "source": [
    "eprint_default == eprint_v3"
   ]
  },
  {
   "cell_type": "markdown",
   "id": "2425ca0c",
   "metadata": {},
   "source": [
    "To access version 1 of 1308.4150, we must explicitly specify `eprint_from_arxiv_id(\"1308.4150v1\")`."
   ]
  },
  {
   "cell_type": "code",
   "execution_count": 10,
   "id": "52bddc8f",
   "metadata": {},
   "outputs": [
    {
     "name": "stdout",
     "output_type": "stream",
     "text": [
      "================================================\n",
      "arXiv.org e-Print 1308.4150v1\n",
      "================================================\n",
      "Title\n",
      "-----\n",
      "Damn You, Little h! (or, Real-World Applications Of The Hubble Constant\n",
      "  Using Observed And Simulated Data)\n",
      "\n",
      "Author(s)\n",
      "---------\n",
      "Darren Croton\n",
      "\n",
      "Primary category: astro-ph.CO\n",
      "URL: https://arxiv.org/pdf/1308.4150v1.pdf\n",
      "Submitted: 2013-08-19\n"
     ]
    }
   ],
   "source": [
    "eprint_v1  = pyxiv.eprint_from_arxiv_id(\"1308.4150v1\")\n",
    "summary_v1 = eprint_v1.summary()\n",
    "print(summary_v1)"
   ]
  },
  {
   "cell_type": "code",
   "execution_count": 11,
   "id": "61f1fc74",
   "metadata": {},
   "outputs": [
    {
     "data": {
      "text/plain": [
       "False"
      ]
     },
     "execution_count": 11,
     "metadata": {},
     "output_type": "execute_result"
    }
   ],
   "source": [
    "eprint_default == eprint_v1"
   ]
  },
  {
   "cell_type": "markdown",
   "id": "d21dfa12",
   "metadata": {},
   "source": [
    "We have now learned how to access an e-print and view its data. Upon viewing the e-print's data, it would be convenient to have a way to download the e-print as a .pdf file if we decide it's worth reading. This need is met by the `ePrint` class's `download` method. To run `download`, all we need is a path to which we save the e-print; if the specified path does not exist, it is created automatically. To view the details of the `summary` method, we can run the following cell."
   ]
  },
  {
   "cell_type": "code",
   "execution_count": 12,
   "id": "d86ceb05",
   "metadata": {},
   "outputs": [],
   "source": [
    "pyxiv.ePrint.download?"
   ]
  },
  {
   "cell_type": "markdown",
   "id": "06776bdd",
   "metadata": {},
   "source": [
    "For example, we can download 2203.17185 and save it to `./papers` as follows."
   ]
  },
  {
   "cell_type": "code",
   "execution_count": 13,
   "id": "08115347",
   "metadata": {},
   "outputs": [
    {
     "name": "stdout",
     "output_type": "stream",
     "text": [
      "Downloading 'First Detections of Exop(lan)ets: Observations and Follow-Ups of the\n",
      "  Floofiest Transits on Zoom' (2203.17185v1)...\n",
      "Download complete! e-Print saved as ./papers/2203.17185v1.pdf.\n"
     ]
    },
    {
     "data": {
      "text/plain": [
       "'./papers/2203.17185v1.pdf'"
      ]
     },
     "execution_count": 13,
     "metadata": {},
     "output_type": "execute_result"
    }
   ],
   "source": [
    "eprint = pyxiv.eprint_from_arxiv_id(\"2203.17185\")\n",
    "eprint.download(\"./papers\")"
   ]
  },
  {
   "cell_type": "markdown",
   "id": "387c7518",
   "metadata": {},
   "source": [
    "Note that the `download` method returns the path to the .pdf."
   ]
  }
 ],
 "metadata": {
  "kernelspec": {
   "display_name": "Python 3 (ipykernel)",
   "language": "python",
   "name": "python3"
  },
  "language_info": {
   "codemirror_mode": {
    "name": "ipython",
    "version": 3
   },
   "file_extension": ".py",
   "mimetype": "text/x-python",
   "name": "python",
   "nbconvert_exporter": "python",
   "pygments_lexer": "ipython3",
   "version": "3.10.9"
  }
 },
 "nbformat": 4,
 "nbformat_minor": 5
}

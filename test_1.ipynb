{
 "cells": [
  {
   "cell_type": "markdown",
   "id": "152d1cf1-dd01-498c-b204-3e7a40c51662",
   "metadata": {},
   "source": [
    "# Researcher Chat with WatsonX\n",
    "Hello, everyone. The purpose of this notebook is to create a chatbot that reads papers online and answers technical questions from  Arxiv.\n",
    "\n",
    "You can download one of the best models of Generative AI that are  free and open source or use the more advanced ones within WatsonX. \n",
    "\n",
    "The idea of this program is to develop a simple tool that helps researchers find insights about issues that we have in science.\n",
    "\n"
   ]
  },
  {
   "cell_type": "markdown",
   "id": "559e0da0-552b-4e58-8be5-f1cb348d353a",
   "metadata": {},
   "source": [
    "### First we need to load our libraries needed for this task"
   ]
  },
  {
   "cell_type": "code",
   "execution_count": 1,
   "id": "3a6e8e37-1d64-49e1-b280-1c3cec48dad5",
   "metadata": {},
   "outputs": [],
   "source": [
    "import urllib.request\n",
    "import fitz\n",
    "import re\n",
    "import numpy as np\n",
    "import tensorflow_hub as hub\n",
    "import gradio as gr\n",
    "import os\n",
    "from pathlib import Path\n",
    "from sklearn.neighbors import NearestNeighbors\n",
    "# Compability with Hugging Face models\n",
    "from transformers import AutoTokenizer, AutoModelForSeq2SeqLM, AutoModelForCausalLM\n",
    "import torch\n",
    "# Compability with ChatGPT\n",
    "import openai"
   ]
  },
  {
   "cell_type": "code",
   "execution_count": 2,
   "id": "b6628b8d-36eb-4403-b4cc-549c4c30638d",
   "metadata": {},
   "outputs": [],
   "source": [
    "DEFAULT_FILE_URL = 'https://arxiv.org/pdf/1706.03762.pdf'\n",
    "DEFAULT_FILE = '1706.03762.pdf'\n",
    "GPT_3_5_TURBO = 'gpt-3.5-turbo'\n",
    "GPT_3_5_TURBO_16K = 'gpt-3.5-turbo-16k'\n",
    "GPT_3_5_TURBO_0613 = 'gpt-3.5-turbo-0613'\n",
    "GPT_3_5_TURBO_16K_0613 = 'gpt-3.5-turbo-16k-0613'\n",
    "GPT_4 = 'gpt-4'\n",
    "GPT_4_32K = 'gpt-4-32k'\n",
    "TEXT_DAVINCI_003 = 'text-davinci-003'"
   ]
  },
  {
   "cell_type": "code",
   "execution_count": 3,
   "id": "11588cc2-fafd-4201-8711-4c144f4b175d",
   "metadata": {},
   "outputs": [],
   "source": [
    "try:\n",
    "    OPENAI_API_KEY = os.environ.get(\"OPENAI_API_KEY\")\n",
    "except KeyError:\n",
    "    OPENAI_API_KEY = input(\"Please enter your api key (hit enter): \")"
   ]
  },
  {
   "cell_type": "code",
   "execution_count": 4,
   "id": "bad6f1a7-6db1-4f2e-8b2d-599a36ee8836",
   "metadata": {},
   "outputs": [],
   "source": [
    "#OPENAI_API_KEY = os.environ.get(\"OPENAI_API_KEY\")\n",
    "#AUTH_USER = os.environ.get(\"AUTH_USER\")\n",
    "#AUTH_PASSWORD = os.environ.get(\"AUTH_PASSWORD\")"
   ]
  },
  {
   "cell_type": "code",
   "execution_count": 5,
   "id": "e17daf14-64a0-4fe5-bbed-b98edc29a270",
   "metadata": {},
   "outputs": [],
   "source": [
    "if len(OPENAI_API_KEY) !=51 :\n",
    "    OPENAI_API_KEY = input(\"Please enter your api key (hit enter): \")"
   ]
  },
  {
   "cell_type": "code",
   "execution_count": null,
   "id": "c5738a7d-d51d-4469-9410-4bc220de455e",
   "metadata": {},
   "outputs": [],
   "source": []
  },
  {
   "cell_type": "code",
   "execution_count": 6,
   "id": "7400344d-e520-482d-82fb-fd9a1967d5a5",
   "metadata": {},
   "outputs": [],
   "source": [
    "BASE_PROMPT_TEXT_DAVINCI_003 = \"\"\\\n",
    "    \"Compose a comprehensive reply to the query using the search results given. \"\\\n",
    "    \"Cite each reference using [ Page Number] notation (every result has this number at the beginning). \"\\\n",
    "    \"Citation should be done at the end of each sentence. If the search results mention multiple subjects \"\\\n",
    "    \"with the same name, create separate answers for each. Only include information found in the results and \"\\\n",
    "    \"don't add any additional information. Make sure the answer is correct and don't output false content. \"\\\n",
    "    \"If the text does not relate to the query, simply state 'Found Nothing'. Ignore outlier \"\\\n",
    "    \"search results which has nothing to do with the question. Only answer what is asked. The \"\\\n",
    "    \"answer should be short and concise.\"\n",
    "\n",
    "BASE_PROMPT_GPT = \"\"\\\n",
    "    \"Instructions: Compose a comprehensive reply to the Query using the SearchResults given. \"\\\n",
    "    \"Cite each reference using [ Page Number] notation. \"\\\n",
    "    \"Only answer what is asked. The answer should be short and concise.\"\n",
    "\n",
    "PROMPT_DAVINCI = BASE_PROMPT_TEXT_DAVINCI_003\n",
    "PROMPT_GPT = BASE_PROMPT_GPT "
   ]
  },
  {
   "cell_type": "code",
   "execution_count": 7,
   "id": "24643fe5-1691-44f1-91c7-dcaf1a0ffd1e",
   "metadata": {},
   "outputs": [],
   "source": [
    "def reset():\n",
    "    globals().update(PROMPT_DAVINCI=BASE_PROMPT_TEXT_DAVINCI_003)\n",
    "    globals().update(PROMPT_GPT=BASE_PROMPT_GPT)\n",
    "    return 'Reset Successful.'"
   ]
  },
  {
   "cell_type": "code",
   "execution_count": 8,
   "id": "9d98fdd2-b585-4242-b97b-09916facde35",
   "metadata": {},
   "outputs": [],
   "source": [
    "def download_pdf(url, output_path):\n",
    "    urllib.request.urlretrieve(url, output_path)"
   ]
  },
  {
   "cell_type": "code",
   "execution_count": 9,
   "id": "e1b1cd64-d783-4cd3-a2a0-c34408fec9ff",
   "metadata": {},
   "outputs": [],
   "source": [
    "def preprocess(text):\n",
    "    text = text.replace('\\n', ' ')\n",
    "    text = re.sub('\\s+', ' ', text)\n",
    "    return text"
   ]
  },
  {
   "cell_type": "code",
   "execution_count": 10,
   "id": "12ab89df-bd43-44a0-b84e-ce124a4b1b19",
   "metadata": {},
   "outputs": [],
   "source": [
    "def pdf_to_text(path, start_page=1, end_page=None):\n",
    "    doc = fitz.open(path)\n",
    "    total_pages = doc.page_count\n",
    "\n",
    "    if end_page is None:\n",
    "        end_page = total_pages\n",
    "\n",
    "    text_list = []\n",
    "\n",
    "    for i in range(start_page-1, end_page):\n",
    "        text = doc.load_page(i).get_text(\"text\")\n",
    "        print(f'Log: Page {i+1}/{total_pages} loaded with text: {text}')\n",
    "        text = preprocess(text)\n",
    "        text_list.append(text)\n",
    "\n",
    "    doc.close()\n",
    "    return text_list"
   ]
  },
  {
   "cell_type": "code",
   "execution_count": 11,
   "id": "6d338216-5d83-4d82-b48b-ebdd49ebf180",
   "metadata": {},
   "outputs": [],
   "source": [
    "def text_to_chunks(texts, word_length=150, start_page=1):\n",
    "    text_toks = [t.split(' ') for t in texts]\n",
    "    page_nums = []\n",
    "    chunks = []\n",
    "    \n",
    "    for idx, words in enumerate(text_toks):\n",
    "        for i in range(0, len(words), word_length):\n",
    "            chunk = words[i:i+word_length]\n",
    "            if (i+word_length) > len(words) and (len(chunk) < word_length) and (\n",
    "                len(text_toks) != (idx+1)):\n",
    "                text_toks[idx+1] = chunk + text_toks[idx+1]\n",
    "                continue\n",
    "            chunk = ' '.join(chunk).strip()\n",
    "            chunk = f'[Page no. {idx+start_page}]' + ' ' + '\"' + chunk + '\"'\n",
    "            chunks.append(chunk)\n",
    "    return chunks"
   ]
  },
  {
   "cell_type": "code",
   "execution_count": 12,
   "id": "49af33b4-446e-4422-a19d-0559a4c563cc",
   "metadata": {},
   "outputs": [],
   "source": [
    "class SemanticSearch:\n",
    "    \n",
    "    def __init__(self):\n",
    "        #self.use = hub.load('./universal-sentence-encoder_4/')\n",
    "        self.use = hub.load('https://tfhub.dev/google/universal-sentence-encoder/4')\n",
    "        self.fitted = False\n",
    "    def fit(self, data, batch=1000, n_neighbors=5):\n",
    "        self.data = data\n",
    "        self.embeddings = self.get_text_embedding(data, batch=batch)\n",
    "        n_neighbors = min(n_neighbors, len(self.embeddings))\n",
    "        self.nn = NearestNeighbors(n_neighbors=n_neighbors)\n",
    "        self.nn.fit(self.embeddings)\n",
    "        self.fitted = True\n",
    "    def __call__(self, text, return_data=True):\n",
    "        inp_emb = self.use([text])\n",
    "        neighbors = self.nn.kneighbors(inp_emb, return_distance=False)[0]\n",
    "        if return_data:\n",
    "            return [self.data[i] for i in neighbors]\n",
    "        else:\n",
    "            return neighbors\n",
    "    def get_text_embedding(self, texts, batch=1000):\n",
    "        embeddings = []\n",
    "        for i in range(0, len(texts), batch):\n",
    "            text_batch = texts[i:(i+batch)]\n",
    "            emb_batch = self.use(text_batch)\n",
    "            embeddings.append(emb_batch)\n",
    "        embeddings = np.vstack(embeddings)\n",
    "        return embeddings"
   ]
  },
  {
   "cell_type": "code",
   "execution_count": 25,
   "id": "4c8d0a59-9b51-4132-a375-8dd2f41ac719",
   "metadata": {},
   "outputs": [],
   "source": [
    "def load_recommender(path, start_page=1):\n",
    "    global recommender\n",
    "    texts = pdf_to_text(path, start_page=start_page)\n",
    "    chunks = text_to_chunks(texts, start_page=start_page)\n",
    "    recommender.fit(chunks)\n",
    "    return 'Corpus Loaded.'"
   ]
  },
  {
   "cell_type": "code",
   "execution_count": 26,
   "id": "1a96b1d8-f208-41e9-8d11-cc5de61190a2",
   "metadata": {},
   "outputs": [],
   "source": [
    "def generate_text_gpt(openAI_key, prompt, model):\n",
    "    openai.api_key = openAI_key\n",
    "    temperature=0.7\n",
    "    max_tokens=256\n",
    "    top_p=1\n",
    "    frequency_penalty=0\n",
    "    presence_penalty=0\n",
    "\n",
    "    message = openai.ChatCompletion.create(\n",
    "        model=model,\n",
    "        messages=[\n",
    "            {\"role\": \"system\", \"content\": PROMPT_GPT},\n",
    "            {\"role\": \"user\", \"content\": \"What is the maximum capacity?\"},\n",
    "            {\"role\": \"assistant\", \"content\": \"The maximum AC continuous output power is 29.99 kW [Page no. 13].\"},\n",
    "            {\"role\": \"user\", \"content\": prompt}\n",
    "        ],\n",
    "        temperature=.3,\n",
    "        max_tokens=max_tokens,\n",
    "        top_p=top_p,\n",
    "        frequency_penalty=frequency_penalty,\n",
    "        presence_penalty=presence_penalty,\n",
    "    ).choices[0].message['content']\n",
    "    return message"
   ]
  },
  {
   "cell_type": "code",
   "execution_count": 27,
   "id": "7b32d18d-ed56-42aa-9745-282d3719ec14",
   "metadata": {},
   "outputs": [],
   "source": [
    "def make_search_results(question):\n",
    "    topn_chunks = recommender(question)\n",
    "    search_results = ''\n",
    "\n",
    "    for c in topn_chunks:\n",
    "        search_results += c + '\\n\\n'\n",
    "    return search_results"
   ]
  },
  {
   "cell_type": "code",
   "execution_count": 28,
   "id": "8d11038a-7f56-4584-838b-fcfd7e4ff6c9",
   "metadata": {},
   "outputs": [],
   "source": [
    "def set_base_prompt_GPT(prompt):\n",
    "    global PROMPT_GPT\n",
    "    PROMPT_GPT = prompt\n",
    "    return \"OK\""
   ]
  },
  {
   "cell_type": "code",
   "execution_count": 29,
   "id": "4b3507bb-7f8e-4d10-b083-612ee5a8c30a",
   "metadata": {},
   "outputs": [],
   "source": [
    "def base_prompt_GPT():\n",
    "    return BASE_PROMPT_TEXT_DAVINCI_003\n",
    "  \n",
    "def generate_answer_GPT(question, openAI_key, model):\n",
    "    search_results = make_search_results(question)\n",
    "    \n",
    "    prompt = \"\"\n",
    "    prompt += f\"SearchResults:\\n\\n{search_results}\"\n",
    "    prompt += f\"Query: {question}\"\n",
    "\n",
    "    answer = generate_text_gpt(openAI_key, prompt, model)\n",
    "    return answer, PROMPT_GPT, prompt"
   ]
  },
  {
   "cell_type": "code",
   "execution_count": 30,
   "id": "dc6edae9-4508-4872-b2a6-6eaed0d00e4e",
   "metadata": {},
   "outputs": [],
   "source": [
    "def question_answer(url, file, question, model):\n",
    "    try:\n",
    "        openAI_key = OPENAI_API_KEY\n",
    "        if openAI_key.strip()=='':\n",
    "            return '[ERROR]: Failed to load OpenAI API Key from environment variable.'\n",
    "        if model is None or model =='':\n",
    "            return '[ERROR]: No model selected.'\n",
    "        if url.strip() != '':\n",
    "            glob_url = url\n",
    "            download_pdf(glob_url, 'corpus.pdf')\n",
    "            load_recommender('corpus.pdf')\n",
    "        if file is not None and file.name != '':\n",
    "            old_file_name = file.name\n",
    "            file_name = file.name\n",
    "            file_name = file_name[:-12] + file_name[-4:]\n",
    "            os.rename(old_file_name, file_name)\n",
    "            load_recommender(file_name)\n",
    "        else:\n",
    "            load_recommender(Path(DEFAULT_FILE))\n",
    "        \n",
    "        if question.strip() == '':\n",
    "            return '[ERROR]: Question field is empty'\n",
    "        if model == TEXT_DAVINCI_003:\n",
    "            return generate_answer_davinci_003(question, openAI_key)\n",
    "        \n",
    "        return generate_answer_GPT(question, openAI_key, model)\n",
    "    except openai.error.InvalidRequestError as e:\n",
    "        return f'[ERROR]: Either you do not have access to GPT4 or you have exhausted your quota!'\n"
   ]
  },
  {
   "cell_type": "code",
   "execution_count": 31,
   "id": "7adad76d-a49d-44ac-ad36-d87b9a6a284e",
   "metadata": {},
   "outputs": [],
   "source": [
    "def generate_text_davinci(openAI_key, prompt):\n",
    "    try:\n",
    "        openai.api_key = openAI_key\n",
    "        completions = openai.Completion.create(\n",
    "            engine=\"text-davinci-003\",\n",
    "            prompt=prompt,\n",
    "            max_tokens=512,\n",
    "            n=1,\n",
    "            stop=None,\n",
    "            temperature=0.7,\n",
    "        )\n",
    "        message = completions.choices[0].text\n",
    "    except Exception as e:\n",
    "        message = f'API Error: {str(e)}'\n",
    "    return message \n"
   ]
  },
  {
   "cell_type": "code",
   "execution_count": 32,
   "id": "ec1c89df-8682-4aa6-a2cc-d0c13dbc7c63",
   "metadata": {},
   "outputs": [],
   "source": [
    "def set_base_prompt_davinci_003(prompt):\n",
    "    global PROMPT_DAVINCI\n",
    "    PROMPT_DAVINCI = prompt\n",
    "    return \"OK\""
   ]
  },
  {
   "cell_type": "code",
   "execution_count": 33,
   "id": "bba562b2-d3f2-4803-b7e4-303b50f6606c",
   "metadata": {},
   "outputs": [],
   "source": [
    "def base_prompt_davinci_003():\n",
    "    return BASE_PROMPT_TEXT_DAVINCI_003"
   ]
  },
  {
   "cell_type": "code",
   "execution_count": 34,
   "id": "de5d0a33-5894-4e77-821b-690cab0627a7",
   "metadata": {},
   "outputs": [],
   "source": [
    "def generate_answer_davinci_003(question,openAI_key):\n",
    "    search_results = make_search_results(question)\n",
    "\n",
    "    prompt = \"\"\n",
    "    prompt += f\"Search Results:\\n\\n{search_results}\"\n",
    "    prompt += f\"Instructions: {BASE_PROMPT_TEXT_DAVINCI_003}\\n\\n\"\n",
    "    prompt += \"Query: {question}\\n\\nAnswer:{answer}\\n\\n\"\n",
    "    prompt += f\"Query: {question}\\n\\n\"\n",
    "    prompt += \"Answer:\"\n",
    "\n",
    "    answer = generate_text_davinci(openAI_key, prompt)\n",
    "    return answer, PROMPT_DAVINCI, prompt"
   ]
  },
  {
   "cell_type": "code",
   "execution_count": 35,
   "id": "8d1d61fa-95fc-4924-b93d-b6ad24c21358",
   "metadata": {},
   "outputs": [],
   "source": [
    "# pre-defined questions\n",
    "questions = [\n",
    "    \"What did the study investigate?\",\n",
    "    \"Can you provide a summary of this paper?\",\n",
    "    \"what are the methodologies used in this study?\",\n",
    "    \"what are the data intervals used in this study? Give me the start dates and end dates?\",\n",
    "    \"what are the main limitations of this study?\",\n",
    "    \"what are the main shortcomings of this study?\",\n",
    "    \"what are the main findings of the study?\",\n",
    "    \"what are the main results of the study?\",\n",
    "    \"what are the main contributions of this study?\",\n",
    "    \"what is the conclusion of this paper?\",\n",
    "    \"what are the input features used in this study?\",\n",
    "    \"what is the dependent variable in this study?\",\n",
    "]"
   ]
  },
  {
   "cell_type": "code",
   "execution_count": 37,
   "id": "6f81e2ac-1749-4a3f-b82e-1136014bda4e",
   "metadata": {},
   "outputs": [],
   "source": [
    "recommender = SemanticSearch()\n",
    "title = 'Chat with PDF'\n",
    "with gr.Blocks(css=\"\"\"#response { font-size: 14px; min-height: 1200; }\"\"\") as demo:\n",
    "    gr.Markdown(f'<center><h3>{title}</h3></center>')\n",
    "    with gr.Row():\n",
    "        with gr.Group():\n",
    "            question = gr.Textbox(label='Enter your question here')           \n",
    "            btn = gr.Button(value='Submit')\n",
    "            btn.style(full_width=True)\n",
    "            with gr.Accordion(label=\"Select PDF\", open=False):\n",
    "                url = gr.Textbox(label=f'Enter PDF URL here  (Example: {DEFAULT_FILE_URL})')\n",
    "                gr.Markdown(\"<center><h7>OR</h7></center>\")\n",
    "                file = gr.File(label='Upload your PDF/ Research Paper / Book here', file_types=['.pdf'])\n",
    "            \n",
    "            model = gr.Radio([\n",
    "                'gpt-3.5-turbo', \n",
    "                'gpt-3.5-turbo-16k', \n",
    "                'gpt-3.5-turbo-0613', \n",
    "                'gpt-3.5-turbo-16k-0613', \n",
    "                'text-davinci-003',\n",
    "                'gpt-4',\n",
    "                'gpt-4-32k'\n",
    "            ], label='Select Model', value='gpt-3.5-turbo')\n",
    "            with gr.Accordion(label=\"Prompt\", open=False):\n",
    "                gpt_prompt = gr.Textbox(label=f'GPT model prompt')\n",
    "                btn_gpt_prompt = gr.Button(value='Submit GPT Prompt')\n",
    "                btn_gpt_prompt.style(full_width=True)\n",
    "                gr.Markdown(\"<center><h7>OR</h7></center>\")\n",
    "                davinci_prompt = gr.Textbox(label=f'Davinci model prompt')\n",
    "                btn_davinci_prompt = gr.Button(value='Submit Davinci Prompt')\n",
    "                btn_davinci_prompt.style(full_width=True)\n",
    "            \n",
    "            btn_reset = gr.Button(value='Reset')\n",
    "\n",
    "        with gr.Group():\n",
    "            response = gr.Label(label=\"Response\", elem_id=\"response\")\n",
    "            with gr.Accordion(label=\"Log\", open=False):\n",
    "                system = gr.Textbox(label=\"System\")\n",
    "                prompt = gr.Textbox(label=\"Prompt\")\n",
    "    btn.click(\n",
    "        question_answer,\n",
    "        inputs=[url, file, question, model],\n",
    "        outputs=[response,system,prompt],\n",
    "        api_name=\"question_answer\"\n",
    "    )\n",
    "    btn_gpt_prompt.click(set_base_prompt_GPT, inputs=[gpt_prompt], outputs=[], api_name=\"set_base_prompt_GPT\")\n",
    "    btn_davinci_prompt.click(set_base_prompt_davinci_003, inputs=[davinci_prompt], outputs=[], api_name=\"set_base_prompt_davinci_003\")\n",
    "    btn_reset.click(reset, inputs=[], outputs=[], api_name=\"reset\")"
   ]
  },
  {
   "cell_type": "code",
   "execution_count": 38,
   "id": "dd1109e4-f726-48e4-8797-55e9de6b3337",
   "metadata": {},
   "outputs": [
    {
     "name": "stdout",
     "output_type": "stream",
     "text": [
      "Running on local URL:  http://127.0.0.1:7861\n",
      "\n",
      "To create a public link, set `share=True` in `launch()`.\n"
     ]
    },
    {
     "data": {
      "text/html": [
       "<div><iframe src=\"http://127.0.0.1:7861/\" width=\"100%\" height=\"500\" allow=\"autoplay; camera; microphone; clipboard-read; clipboard-write;\" frameborder=\"0\" allowfullscreen></iframe></div>"
      ],
      "text/plain": [
       "<IPython.core.display.HTML object>"
      ]
     },
     "metadata": {},
     "output_type": "display_data"
    },
    {
     "data": {
      "text/plain": []
     },
     "execution_count": 38,
     "metadata": {},
     "output_type": "execute_result"
    }
   ],
   "source": [
    "demo.launch(show_api=True)"
   ]
  },
  {
   "cell_type": "code",
   "execution_count": null,
   "id": "d8fd5776-ca37-46ae-bcde-460e00c3265c",
   "metadata": {},
   "outputs": [],
   "source": []
  },
  {
   "cell_type": "code",
   "execution_count": null,
   "id": "8baa7fef-56ea-4409-9d52-8791e5abb189",
   "metadata": {},
   "outputs": [],
   "source": []
  },
  {
   "cell_type": "code",
   "execution_count": null,
   "id": "d694eb3c-c3b4-450e-aea7-5b502abd833a",
   "metadata": {},
   "outputs": [],
   "source": []
  },
  {
   "cell_type": "code",
   "execution_count": null,
   "id": "67a62fcc-abd6-4129-8553-37c3209f9216",
   "metadata": {},
   "outputs": [],
   "source": []
  },
  {
   "cell_type": "code",
   "execution_count": null,
   "id": "036ce7ab-66aa-48eb-af8b-8d5b01b20248",
   "metadata": {},
   "outputs": [],
   "source": []
  },
  {
   "cell_type": "code",
   "execution_count": null,
   "id": "e74ed532-b802-4f0b-ae7d-bc9bbe4e0bc1",
   "metadata": {},
   "outputs": [],
   "source": []
  },
  {
   "cell_type": "code",
   "execution_count": null,
   "id": "b0e379b4-4ebc-440b-b5c8-53f07020e8d9",
   "metadata": {},
   "outputs": [],
   "source": []
  },
  {
   "cell_type": "code",
   "execution_count": null,
   "id": "fb686b6d-232e-4bf2-a744-9a8bb01ac0e5",
   "metadata": {},
   "outputs": [],
   "source": []
  },
  {
   "cell_type": "code",
   "execution_count": null,
   "id": "fd01c98f-3458-4ebf-9613-3aa4f665b357",
   "metadata": {},
   "outputs": [],
   "source": []
  },
  {
   "cell_type": "code",
   "execution_count": null,
   "id": "4bd3db77-7e2f-4747-af29-f0d14e02f24e",
   "metadata": {},
   "outputs": [],
   "source": []
  },
  {
   "cell_type": "code",
   "execution_count": null,
   "id": "7b1ddec2-84f8-4add-87d9-a0e9d05722c3",
   "metadata": {},
   "outputs": [],
   "source": []
  },
  {
   "cell_type": "code",
   "execution_count": 39,
   "id": "8cd7b517-66f9-4d1b-98e1-a2b8bea19d52",
   "metadata": {},
   "outputs": [],
   "source": [
    "# Compability with Hugging Face models\n",
    "from transformers import AutoTokenizer, AutoModelForSeq2SeqLM, AutoModelForCausalLM\n",
    "import torch"
   ]
  },
  {
   "cell_type": "code",
   "execution_count": 50,
   "id": "b3fccc3c-3d91-4ff6-83a7-73d60de93130",
   "metadata": {},
   "outputs": [],
   "source": [
    "def query(query,modelo=\"flan-t5-small\",tokens=100000):\n",
    "    options=\"\"\n",
    "    tok_len=tokens\n",
    "    t5query = f\"\"\"Question: \"{query}\" Context: {options}\"\"\"        \n",
    "    if (modelo==\"flan-t5-small\" or modelo==\"flan-t5-large\"):\n",
    "       tokenizer = AutoTokenizer.from_pretrained(\"google/{}\".format(modelo))\n",
    "       model = AutoModelForSeq2SeqLM.from_pretrained(\"google/{}\".format(modelo)).to(device)\n",
    "       inputs = tokenizer(t5query, return_tensors=\"pt\").to(device)\n",
    "       outputs = model.generate(**inputs, max_new_tokens=tok_len)\n",
    "    else:\n",
    "        model = AutoModelForCausalLM.from_pretrained(\"EleutherAI/gpt-neo-125M\").to(device)\n",
    "        tokenizer = AutoTokenizer.from_pretrained(\"EleutherAI/gpt-neo-125M\")\n",
    "        input_ids = tokenizer(t5query, return_tensors=\"pt\").to(device) \n",
    "        outputs = model.generate(**input_ids, do_sample=True, max_length=tok_len) \n",
    "    generation=tokenizer.batch_decode(outputs, skip_special_tokens=True)    \n",
    "    return '\\n'.join(generation)"
   ]
  },
  {
   "cell_type": "code",
   "execution_count": 41,
   "id": "712a6e68-cd98-4242-8615-8f4506749a99",
   "metadata": {},
   "outputs": [],
   "source": [
    "device = torch.device(\"cuda\" if torch.cuda.is_available() else \"cpu\")"
   ]
  },
  {
   "cell_type": "code",
   "execution_count": 42,
   "id": "b11eccef-ebd8-416c-9845-e5175e71251e",
   "metadata": {},
   "outputs": [
    {
     "data": {
      "text/plain": [
       "'rome'"
      ]
     },
     "execution_count": 42,
     "metadata": {},
     "output_type": "execute_result"
    }
   ],
   "source": [
    "# Testing the enviroment\n",
    "question='What is the capital of Italy'\n",
    "query(question, modelo =\"flan-t5-small\" ,tokens=100)"
   ]
  },
  {
   "cell_type": "code",
   "execution_count": 18,
   "id": "2b924b53-e886-431c-8602-4062da668ae5",
   "metadata": {},
   "outputs": [],
   "source": []
  },
  {
   "cell_type": "code",
   "execution_count": 43,
   "id": "33ac1916-8530-4fe4-a3ae-ea4980ccf016",
   "metadata": {},
   "outputs": [],
   "source": [
    "recommender = SemanticSearch()"
   ]
  },
  {
   "cell_type": "code",
   "execution_count": 53,
   "id": "55b9f055-cde6-4006-8099-28b4c3b75efc",
   "metadata": {},
   "outputs": [],
   "source": [
    "def generate_answer(question,openAI_key=None):\n",
    "    topn_chunks = recommender(question)\n",
    "    prompt = \"\"\n",
    "    prompt += 'search results:\\n\\n'\n",
    "    for c in topn_chunks:\n",
    "        prompt += c + '\\n\\n'\n",
    "    prompt += \"Instructions: Compose a comprehensive reply to the query using the search results given. \"\\\n",
    "              \"Cite each reference using [ Page Number] notation (every result has this number at the beginning). \"\\\n",
    "              \"Citation should be done at the end of each sentence. If the search results mention multiple subjects \"\\\n",
    "              \"with the same name, create separate answers for each. Only include information found in the results and \"\\\n",
    "              \"don't add any additional information. Make sure the answer is correct and don't output false content. \"\\\n",
    "              \"If the text does not relate to the query, simply state 'Found Nothing'. Ignore outlier \"\\\n",
    "              \"search results which has nothing to do with the question. Only answer what is asked. The \"\\\n",
    "              \"answer should be short and concise. \\n\\nQuery: {question}\\nAnswer: \"\n",
    "    \n",
    "    prompt += f\"Query: {question}\\nAnswer:\"\n",
    "    answer = prompt\n",
    "    #answer = generate_text(openAI_key, prompt,\"text-davinci-003\")\n",
    "    return answer"
   ]
  },
  {
   "cell_type": "code",
   "execution_count": 13,
   "id": "51f038f3-ba14-4b18-9c77-0ef6d12771fe",
   "metadata": {},
   "outputs": [
    {
     "ename": "SyntaxError",
     "evalue": "invalid syntax (2036064751.py, line 1)",
     "output_type": "error",
     "traceback": [
      "\u001b[1;36m  Cell \u001b[1;32mIn[13], line 1\u001b[1;36m\u001b[0m\n\u001b[1;33m    generate_answer(question)/\u001b[0m\n\u001b[1;37m                              ^\u001b[0m\n\u001b[1;31mSyntaxError\u001b[0m\u001b[1;31m:\u001b[0m invalid syntax\n"
     ]
    }
   ],
   "source": [
    "generate_answer(question)/"
   ]
  },
  {
   "cell_type": "code",
   "execution_count": null,
   "id": "38bf6501-82d2-4e73-84fa-e9603e011477",
   "metadata": {},
   "outputs": [],
   "source": []
  },
  {
   "cell_type": "code",
   "execution_count": 48,
   "id": "b7061b80-439d-4f93-96b3-2b769170fe39",
   "metadata": {},
   "outputs": [],
   "source": [
    "def question_answer(url, file, question,openAI_key):\n",
    "    if openAI_key.strip()=='':\n",
    "        return '[ERROR]: Please enter you Open AI Key. Get your key here : https://platform.openai.com/account/api-keys'\n",
    "    if url.strip() == '' and file == None:\n",
    "        return '[ERROR]: Both URL and PDF is empty. Provide atleast one.'\n",
    "    \n",
    "    if url.strip() != '' and file != None:\n",
    "        return '[ERROR]: Both URL and PDF is provided. Please provide only one (eiter URL or PDF).'\n",
    "    if url.strip() != '':\n",
    "        glob_url = url\n",
    "        download_pdf(glob_url, 'corpus.pdf')\n",
    "        load_recommender('corpus.pdf')\n",
    "    else:\n",
    "        old_file_name = file.name\n",
    "        file_name = file.name\n",
    "        file_name = file_name[:-12] + file_name[-4:]\n",
    "        os.rename(old_file_name, file_name)\n",
    "        load_recommender(file_name)\n",
    "\n",
    "    if question.strip() == '':\n",
    "        return '[ERROR]: Question field is empty'\n",
    "    return generate_answer(question,openAI_key)"
   ]
  },
  {
   "cell_type": "code",
   "execution_count": null,
   "id": "3a654fbd-3d90-45d8-a937-efa0ee5b63b5",
   "metadata": {},
   "outputs": [],
   "source": []
  },
  {
   "cell_type": "code",
   "execution_count": 14,
   "id": "5203d9ac-dcb9-4781-8fbe-2d380c6af92e",
   "metadata": {},
   "outputs": [],
   "source": []
  },
  {
   "cell_type": "code",
   "execution_count": 49,
   "id": "24218bb2-1cb6-48e6-862d-b010cceed0f7",
   "metadata": {},
   "outputs": [
    {
     "name": "stdout",
     "output_type": "stream",
     "text": [
      "Running on local URL:  http://127.0.0.1:7862\n",
      "\n",
      "To create a public link, set `share=True` in `launch()`.\n"
     ]
    },
    {
     "data": {
      "text/html": [
       "<div><iframe src=\"http://127.0.0.1:7862/\" width=\"100%\" height=\"500\" allow=\"autoplay; camera; microphone; clipboard-read; clipboard-write;\" frameborder=\"0\" allowfullscreen></iframe></div>"
      ],
      "text/plain": [
       "<IPython.core.display.HTML object>"
      ]
     },
     "metadata": {},
     "output_type": "display_data"
    },
    {
     "data": {
      "text/plain": []
     },
     "execution_count": 49,
     "metadata": {},
     "output_type": "execute_result"
    }
   ],
   "source": [
    "#def run_openai():\n",
    "recommender = SemanticSearch()\n",
    "title = 'PDF GPT'\n",
    "description = \"\"\" PDF GPT allows you to chat with your PDF file using Universal Sentence Encoder and Open AI. It gives hallucination free response than other tools as the embeddings are better than OpenAI. The returned response can even cite the page number in square brackets([]) where the information is located, adding credibility to the responses and helping to locate pertinent information quickly.\"\"\"   \n",
    "with gr.Blocks() as demo:\n",
    "    gr.Markdown(f'<center><h1>{title}</h1></center>')\n",
    "    gr.Markdown(description)\n",
    "    with gr.Row():\n",
    "        with gr.Group():\n",
    "            gr.Markdown(f'<p style=\"text-align:center\">Get your Open AI API key <a href=\"https://platform.openai.com/account/api-keys\">here</a></p>')\n",
    "            openAI_key=gr.Textbox(label='Enter your OpenAI API key here')\n",
    "            url = gr.Textbox(label='Enter PDF URL here')\n",
    "            gr.Markdown(\"<center><h4>OR<h4></center>\")\n",
    "            file = gr.File(label='Upload your PDF/ Research Paper / Book here', file_types=['.pdf'])\n",
    "            question = gr.Textbox(label='Enter your question here')\n",
    "            btn = gr.Button(value='Submit')\n",
    "            btn.style(full_width=True)\n",
    "        with gr.Group():\n",
    "            answer = gr.Textbox(label='The answer to your question is :')\n",
    "        btn.click(question_answer, inputs=[url, file, question,openAI_key], outputs=[answer])\n",
    "demo.launch()\n",
    "    "
   ]
  },
  {
   "cell_type": "code",
   "execution_count": null,
   "id": "a2772ddc-4950-4bb3-90b5-082e5b5fe09e",
   "metadata": {},
   "outputs": [],
   "source": []
  },
  {
   "cell_type": "code",
   "execution_count": null,
   "id": "b219d27a-7c11-4e47-bc9f-d1c669af0bc9",
   "metadata": {},
   "outputs": [],
   "source": []
  },
  {
   "cell_type": "code",
   "execution_count": null,
   "id": "d83f94f4-c28c-4b11-9693-dda89fe4412b",
   "metadata": {},
   "outputs": [],
   "source": []
  },
  {
   "cell_type": "code",
   "execution_count": null,
   "id": "b4f51929-5210-4740-9784-a9730d69f049",
   "metadata": {},
   "outputs": [],
   "source": []
  },
  {
   "cell_type": "code",
   "execution_count": 37,
   "id": "b7cb5468-6e45-4315-8381-b93610b2db91",
   "metadata": {},
   "outputs": [],
   "source": [
    "#run_openai()"
   ]
  },
  {
   "cell_type": "code",
   "execution_count": null,
   "id": "1c8478c2-f742-4022-b06f-e215f5347e91",
   "metadata": {},
   "outputs": [],
   "source": [
    "def generate_text_text_davinci_003(openAI_key,prompt, engine=\"text-davinci-003\"):\n",
    "    openai.api_key = openAI_key\n",
    "    completions = openai.Completion.create(\n",
    "        engine=engine,\n",
    "        prompt=prompt,\n",
    "        max_tokens=512,\n",
    "        n=1,\n",
    "        stop=None,\n",
    "        temperature=0.7,\n",
    "    )\n",
    "    message = completions.choices[0].text\n",
    "    return message\n",
    "\n",
    "# pre-defined questions\n",
    "questions = [\n",
    "    \"What did the study investigate?\",\n",
    "    \"Can you provide a summary of this paper?\",\n",
    "    \"what are the methodologies used in this study?\",\n",
    "    \"what are the data intervals used in this study? Give me the start dates and end dates?\",\n",
    "    \"what are the main limitations of this study?\",\n",
    "    \"what are the main shortcomings of this study?\",\n",
    "    \"what are the main findings of the study?\",\n",
    "    \"what are the main results of the study?\",\n",
    "    \"what are the main contributions of this study?\",\n",
    "    \"what is the conclusion of this paper?\",\n",
    "    \"what are the input features used in this study?\",\n",
    "    \"what is the dependent variable in this study?\",\n",
    "]"
   ]
  },
  {
   "cell_type": "code",
   "execution_count": 14,
   "id": "9e5ef36c-36af-48d0-b347-29254bb81b4b",
   "metadata": {},
   "outputs": [],
   "source": [
    "def run_turbo():\n",
    "    title = 'PDF GPT Turbo'\n",
    "    description = \"\"\" PDF GPT Turbo allows you to chat with your PDF files. It uses Google's Universal Sentence Encoder with Deep averaging network (DAN) to give hallucination free response by improving the embedding quality of OpenAI. It cites the page number in square brackets([Page No.]) and shows where the information is located, adding credibility to the responses.\"\"\"\n",
    "    with gr.Blocks(css=\"\"\"#chatbot { font-size: 14px; min-height: 1200; }\"\"\") as demo:\n",
    "    \n",
    "        gr.Markdown(f'<center><h3>{title}</h3></center>')\n",
    "        gr.Markdown(description)\n",
    "    \n",
    "        with gr.Row():\n",
    "            \n",
    "            with gr.Group():\n",
    "                gr.Markdown(f'<p style=\"text-align:center\">Get your Open AI API key <a href=\"https://platform.openai.com/account/api-keys\">here</a></p>')\n",
    "                with gr.Accordion(\"API Key\"):\n",
    "                    openAI_key = gr.Textbox(label='Enter your OpenAI API key here', password=True)\n",
    "                    url = gr.Textbox(label='Enter PDF URL here   (Example: https://arxiv.org/pdf/1706.03762.pdf )')\n",
    "                    gr.Markdown(\"<center><h4>OR<h4></center>\")\n",
    "                    file = gr.File(label='Upload your PDF/ Research Paper / Book here', file_types=['.pdf'])\n",
    "                question = gr.Textbox(label='Enter your question here')\n",
    "                gr.Examples(\n",
    "                    [[q] for q in questions],\n",
    "                    inputs=[question],\n",
    "                    label=\"PRE-DEFINED QUESTIONS: Click on a question to auto-fill the input box, then press Enter!\",\n",
    "                )\n",
    "                model = gr.Radio([\n",
    "                    'gpt-3.5-turbo', \n",
    "                    'gpt-3.5-turbo-16k', \n",
    "                    'gpt-3.5-turbo-0613', \n",
    "                    'gpt-3.5-turbo-16k-0613', \n",
    "                    'text-davinci-003',\n",
    "                    'gpt-4',\n",
    "                    'gpt-4-32k'\n",
    "                ], label='Select Model', default='gpt-3.5-turbo')\n",
    "                btn = gr.Button(value='Submit')\n",
    "                btn.style(full_width=True)\n",
    "            with gr.Group():\n",
    "                chatbot = gr.Chatbot(placeholder=\"Chat History\", label=\"Chat History\", lines=50, elem_id=\"chatbot\")\n",
    "        # Bind the click event of the button to the question_answer function\n",
    "        btn.click(\n",
    "            question_answer,\n",
    "            inputs=[chatbot, url, file, question, openAI_key, model],\n",
    "            outputs=[chatbot],\n",
    "        )\n",
    "    \n",
    "    demo.launch()"
   ]
  },
  {
   "cell_type": "code",
   "execution_count": 18,
   "id": "797d0820-99af-4305-870a-87fd15a8a603",
   "metadata": {},
   "outputs": [
    {
     "name": "stderr",
     "output_type": "stream",
     "text": [
      "C:\\Users\\066226758\\AppData\\Local\\Temp\\ipykernel_26736\\1997188045.py:14: UserWarning: You have unused kwarg parameters in Textbox, please remove them: {'password': True}\n",
      "  openAI_key = gr.Textbox(label='Enter your OpenAI API key here', password=True)\n",
      "C:\\Users\\066226758\\AppData\\Local\\Temp\\ipykernel_26736\\1997188045.py:24: UserWarning: You have unused kwarg parameters in Radio, please remove them: {'default': 'gpt-3.5-turbo'}\n",
      "  model = gr.Radio([\n",
      "C:\\Users\\066226758\\AppData\\Local\\Temp\\ipykernel_26736\\1997188045.py:36: UserWarning: You have unused kwarg parameters in Chatbot, please remove them: {'placeholder': 'Chat History', 'lines': 50}\n",
      "  chatbot = gr.Chatbot(placeholder=\"Chat History\", label=\"Chat History\", lines=50, elem_id=\"chatbot\")\n",
      "C:\\ArxivChat\\.arxiv_environment\\lib\\site-packages\\gradio\\utils.py:758: UserWarning: Expected 4 arguments for function <function question_answer at 0x0000019F8E249120>, received 6.\n",
      "  warnings.warn(\n",
      "C:\\ArxivChat\\.arxiv_environment\\lib\\site-packages\\gradio\\utils.py:766: UserWarning: Expected maximum 4 arguments for function <function question_answer at 0x0000019F8E249120>, received 6.\n",
      "  warnings.warn(\n"
     ]
    },
    {
     "name": "stdout",
     "output_type": "stream",
     "text": [
      "Running on local URL:  http://127.0.0.1:7861\n",
      "\n",
      "To create a public link, set `share=True` in `launch()`.\n"
     ]
    },
    {
     "data": {
      "text/html": [
       "<div><iframe src=\"http://127.0.0.1:7861/\" width=\"100%\" height=\"500\" allow=\"autoplay; camera; microphone; clipboard-read; clipboard-write;\" frameborder=\"0\" allowfullscreen></iframe></div>"
      ],
      "text/plain": [
       "<IPython.core.display.HTML object>"
      ]
     },
     "metadata": {},
     "output_type": "display_data"
    },
    {
     "name": "stderr",
     "output_type": "stream",
     "text": [
      "ERROR:    Exception in ASGI application\n",
      "Traceback (most recent call last):\n",
      "  File \"C:\\ArxivChat\\.arxiv_environment\\lib\\site-packages\\uvicorn\\protocols\\http\\h11_impl.py\", line 408, in run_asgi\n",
      "    result = await app(  # type: ignore[func-returns-value]\n",
      "  File \"C:\\ArxivChat\\.arxiv_environment\\lib\\site-packages\\uvicorn\\middleware\\proxy_headers.py\", line 84, in __call__\n",
      "    return await self.app(scope, receive, send)\n",
      "  File \"C:\\ArxivChat\\.arxiv_environment\\lib\\site-packages\\fastapi\\applications.py\", line 292, in __call__\n",
      "    await super().__call__(scope, receive, send)\n",
      "  File \"C:\\ArxivChat\\.arxiv_environment\\lib\\site-packages\\starlette\\applications.py\", line 122, in __call__\n",
      "    await self.middleware_stack(scope, receive, send)\n",
      "  File \"C:\\ArxivChat\\.arxiv_environment\\lib\\site-packages\\starlette\\middleware\\errors.py\", line 184, in __call__\n",
      "    raise exc\n",
      "  File \"C:\\ArxivChat\\.arxiv_environment\\lib\\site-packages\\starlette\\middleware\\errors.py\", line 162, in __call__\n",
      "    await self.app(scope, receive, _send)\n",
      "  File \"C:\\ArxivChat\\.arxiv_environment\\lib\\site-packages\\starlette\\middleware\\cors.py\", line 83, in __call__\n",
      "    await self.app(scope, receive, send)\n",
      "  File \"C:\\ArxivChat\\.arxiv_environment\\lib\\site-packages\\starlette\\middleware\\exceptions.py\", line 79, in __call__\n",
      "    raise exc\n",
      "  File \"C:\\ArxivChat\\.arxiv_environment\\lib\\site-packages\\starlette\\middleware\\exceptions.py\", line 68, in __call__\n",
      "    await self.app(scope, receive, sender)\n",
      "  File \"C:\\ArxivChat\\.arxiv_environment\\lib\\site-packages\\fastapi\\middleware\\asyncexitstack.py\", line 20, in __call__\n",
      "    raise e\n",
      "  File \"C:\\ArxivChat\\.arxiv_environment\\lib\\site-packages\\fastapi\\middleware\\asyncexitstack.py\", line 17, in __call__\n",
      "    await self.app(scope, receive, send)\n",
      "  File \"C:\\ArxivChat\\.arxiv_environment\\lib\\site-packages\\starlette\\routing.py\", line 718, in __call__\n",
      "    await route.handle(scope, receive, send)\n",
      "  File \"C:\\ArxivChat\\.arxiv_environment\\lib\\site-packages\\starlette\\routing.py\", line 276, in handle\n",
      "    await self.app(scope, receive, send)\n",
      "  File \"C:\\ArxivChat\\.arxiv_environment\\lib\\site-packages\\starlette\\routing.py\", line 66, in app\n",
      "    response = await func(request)\n",
      "  File \"C:\\ArxivChat\\.arxiv_environment\\lib\\site-packages\\fastapi\\routing.py\", line 273, in app\n",
      "    raw_response = await run_endpoint_function(\n",
      "  File \"C:\\ArxivChat\\.arxiv_environment\\lib\\site-packages\\fastapi\\routing.py\", line 192, in run_endpoint_function\n",
      "    return await run_in_threadpool(dependant.call, **values)\n",
      "  File \"C:\\ArxivChat\\.arxiv_environment\\lib\\site-packages\\starlette\\concurrency.py\", line 41, in run_in_threadpool\n",
      "    return await anyio.to_thread.run_sync(func, *args)\n",
      "  File \"C:\\ArxivChat\\.arxiv_environment\\lib\\site-packages\\anyio\\to_thread.py\", line 33, in run_sync\n",
      "    return await get_asynclib().run_sync_in_worker_thread(\n",
      "  File \"C:\\ArxivChat\\.arxiv_environment\\lib\\site-packages\\anyio\\_backends\\_asyncio.py\", line 877, in run_sync_in_worker_thread\n",
      "    return await future\n",
      "  File \"C:\\ArxivChat\\.arxiv_environment\\lib\\site-packages\\anyio\\_backends\\_asyncio.py\", line 807, in run\n",
      "    result = context.run(func, *args)\n",
      "  File \"C:\\ArxivChat\\.arxiv_environment\\lib\\site-packages\\gradio\\routes.py\", line 282, in api_info\n",
      "    return gradio.blocks.get_api_info(config, serialize)  # type: ignore\n",
      "  File \"C:\\ArxivChat\\.arxiv_environment\\lib\\site-packages\\gradio\\blocks.py\", line 504, in get_api_info\n",
      "    serializer = serializing.COMPONENT_MAPPING[type]()\n",
      "KeyError: 'dataset'\n"
     ]
    }
   ],
   "source": [
    "run_turbo()"
   ]
  },
  {
   "cell_type": "code",
   "execution_count": 15,
   "id": "ca5cd97f-f115-4392-ac34-141e5a82359d",
   "metadata": {},
   "outputs": [],
   "source": []
  },
  {
   "cell_type": "code",
   "execution_count": 27,
   "id": "ef8e30af-fca0-4325-a90a-ec597a5b1638",
   "metadata": {},
   "outputs": [
    {
     "name": "stdout",
     "output_type": "stream",
     "text": [
      "Running on local URL:  http://127.0.0.1:7861\n",
      "\n",
      "To create a public link, set `share=True` in `launch()`.\n"
     ]
    },
    {
     "data": {
      "text/html": [
       "<div><iframe src=\"http://127.0.0.1:7861/\" width=\"100%\" height=\"500\" allow=\"autoplay; camera; microphone; clipboard-read; clipboard-write;\" frameborder=\"0\" allowfullscreen></iframe></div>"
      ],
      "text/plain": [
       "<IPython.core.display.HTML object>"
      ]
     },
     "metadata": {},
     "output_type": "display_data"
    },
    {
     "data": {
      "text/plain": []
     },
     "execution_count": 27,
     "metadata": {},
     "output_type": "execute_result"
    }
   ],
   "source": []
  },
  {
   "cell_type": "code",
   "execution_count": 23,
   "id": "d81cddff-e3ed-480e-b2ee-1f2ad6778362",
   "metadata": {},
   "outputs": [],
   "source": [
    "def generate_prompt(question):\n",
    "    \n",
    "    topn_chunks = recommender(question)\n",
    "    results = \"\"\n",
    "    results += 'search results:\\n\\n'\n",
    "    for c in topn_chunks:\n",
    "        results += c + '. \\n\\n'       \n",
    "    instruction = \"Instructions: Compose a comprehensive reply to the query using the search results given. \"\\\n",
    "              \"Cite each reference using [ Page Number] notation (every result has this number at the beginning). \"\\\n",
    "              \"Citation should be done at the end of each sentence. If the search results mention multiple subjects \"\\\n",
    "              \"with the same name, create separate answers for each. Only include information found in the results and \"\\\n",
    "              \"don't add any additional information. Make sure the answer is correct and don't output false content. \"\\\n",
    "              \"If the text does not relate to the query, simply state 'Found Nothing'. Ignore outlier \"\\\n",
    "              \"search results which has nothing to do with the question. Only answer what is asked. The \"\\\n",
    "              \"answer should be short and concise.\"\n",
    "    \n",
    "    prompt = instruction + \"\\n\\nQuery: {}\".format(question) + \" \\n\\n\" + results + \" \\nAnswer:\"\n",
    "    \n",
    "    #answer = generate_text(openAI_key, prompt,\"text-davinci-003\")\n",
    "    #return answer\n",
    "    return prompt\n"
   ]
  },
  {
   "cell_type": "code",
   "execution_count": 24,
   "id": "4b1ca807-ae76-4468-9956-07a68051b30b",
   "metadata": {},
   "outputs": [
    {
     "ename": "AttributeError",
     "evalue": "'SemanticSearch' object has no attribute 'nn'",
     "output_type": "error",
     "traceback": [
      "\u001b[1;31m---------------------------------------------------------------------------\u001b[0m",
      "\u001b[1;31mAttributeError\u001b[0m                            Traceback (most recent call last)",
      "Cell \u001b[1;32mIn[24], line 2\u001b[0m\n\u001b[0;32m      1\u001b[0m question\u001b[38;5;241m=\u001b[39m\u001b[38;5;124m\"\u001b[39m\u001b[38;5;124mGive me a summary of the abstract\u001b[39m\u001b[38;5;124m\"\u001b[39m\n\u001b[1;32m----> 2\u001b[0m \u001b[43mgenerate_prompt\u001b[49m\u001b[43m(\u001b[49m\u001b[43mquestion\u001b[49m\u001b[43m)\u001b[49m\n",
      "Cell \u001b[1;32mIn[23], line 3\u001b[0m, in \u001b[0;36mgenerate_prompt\u001b[1;34m(question)\u001b[0m\n\u001b[0;32m      1\u001b[0m \u001b[38;5;28;01mdef\u001b[39;00m \u001b[38;5;21mgenerate_prompt\u001b[39m(question):\n\u001b[0;32m      2\u001b[0m     recommender \u001b[38;5;241m=\u001b[39m SemanticSearch()\n\u001b[1;32m----> 3\u001b[0m     topn_chunks \u001b[38;5;241m=\u001b[39m \u001b[43mrecommender\u001b[49m\u001b[43m(\u001b[49m\u001b[43mquestion\u001b[49m\u001b[43m)\u001b[49m\n\u001b[0;32m      4\u001b[0m     results \u001b[38;5;241m=\u001b[39m \u001b[38;5;124m\"\u001b[39m\u001b[38;5;124m\"\u001b[39m\n\u001b[0;32m      5\u001b[0m     results \u001b[38;5;241m+\u001b[39m\u001b[38;5;241m=\u001b[39m \u001b[38;5;124m'\u001b[39m\u001b[38;5;124msearch results:\u001b[39m\u001b[38;5;130;01m\\n\u001b[39;00m\u001b[38;5;130;01m\\n\u001b[39;00m\u001b[38;5;124m'\u001b[39m\n",
      "Cell \u001b[1;32mIn[3], line 14\u001b[0m, in \u001b[0;36mSemanticSearch.__call__\u001b[1;34m(self, text, return_data)\u001b[0m\n\u001b[0;32m     12\u001b[0m \u001b[38;5;28;01mdef\u001b[39;00m \u001b[38;5;21m__call__\u001b[39m(\u001b[38;5;28mself\u001b[39m, text, return_data\u001b[38;5;241m=\u001b[39m\u001b[38;5;28;01mTrue\u001b[39;00m):\n\u001b[0;32m     13\u001b[0m     inp_emb \u001b[38;5;241m=\u001b[39m \u001b[38;5;28mself\u001b[39m\u001b[38;5;241m.\u001b[39muse([text])\n\u001b[1;32m---> 14\u001b[0m     neighbors \u001b[38;5;241m=\u001b[39m \u001b[38;5;28;43mself\u001b[39;49m\u001b[38;5;241;43m.\u001b[39;49m\u001b[43mnn\u001b[49m\u001b[38;5;241m.\u001b[39mkneighbors(inp_emb, return_distance\u001b[38;5;241m=\u001b[39m\u001b[38;5;28;01mFalse\u001b[39;00m)[\u001b[38;5;241m0\u001b[39m]\n\u001b[0;32m     15\u001b[0m     \u001b[38;5;28;01mif\u001b[39;00m return_data:\n\u001b[0;32m     16\u001b[0m         \u001b[38;5;28;01mreturn\u001b[39;00m [\u001b[38;5;28mself\u001b[39m\u001b[38;5;241m.\u001b[39mdata[i] \u001b[38;5;28;01mfor\u001b[39;00m i \u001b[38;5;129;01min\u001b[39;00m neighbors]\n",
      "\u001b[1;31mAttributeError\u001b[0m: 'SemanticSearch' object has no attribute 'nn'"
     ]
    }
   ],
   "source": [
    "question=\"Give me a summary of the abstract\"\n",
    "generate_prompt(question)"
   ]
  },
  {
   "cell_type": "code",
   "execution_count": 69,
   "id": "1f44d0bb-d09e-4195-9624-6f7a675ee5ec",
   "metadata": {},
   "outputs": [
    {
     "name": "stdout",
     "output_type": "stream",
     "text": [
      "Learning Disentangled Avatars with Hybrid 3D Representations\n",
      "Attention De-sparsification Matters: Inducing Diversity in Digital Pathology Representation Learning\n"
     ]
    }
   ],
   "source": [
    "import arxiv\n",
    "search = arxiv.Search(\n",
    "  query = \"Shell model\",\n",
    "  max_results = 2,\n",
    "  sort_by = arxiv.SortCriterion.SubmittedDate\n",
    ")\n",
    "\n",
    "for result in search.results():\n",
    "  print(result.title)"
   ]
  },
  {
   "cell_type": "code",
   "execution_count": 85,
   "id": "78963df5-9fa4-478e-b32b-4a55648244d3",
   "metadata": {},
   "outputs": [],
   "source": [
    "titles = [result.title for result in search.results()]\n",
    "authors = [result.authors for result in search.results()]\n",
    "summary = [result.summary for result in search.results()]\n",
    "entry_id = [result.entry_id for result in search.results()]\n",
    "#download_source = [result.download_source for result in search.results()]\n",
    "#download_pdf = [result.download_pdf for result in search.results()]\n",
    "pdf_url = [result.pdf_url for result in search.results()]\n",
    "categories = [result.categories for result in search.results()]\n",
    "comment = [result.comment for result in search.results()]\n",
    "doi = [result.doi for result in search.results()]\n",
    "published = [result.published for result in search.results()]"
   ]
  },
  {
   "cell_type": "code",
   "execution_count": 71,
   "id": "f22e3d07-9b80-4394-9c50-2f4b95b555c9",
   "metadata": {},
   "outputs": [],
   "source": [
    "import pandas as pd"
   ]
  },
  {
   "cell_type": "code",
   "execution_count": 90,
   "id": "f58170fd-1efa-4599-bbe8-c6e6fe7ae76e",
   "metadata": {},
   "outputs": [],
   "source": [
    "df = pd.DataFrame({\n",
    "    'title': titles,\n",
    "    'authors': authors,\n",
    "    'summary': summary,\n",
    "    #'entry_id': entry_id,\n",
    "    'pdf_url':pdf_url,\n",
    "    'categories':categories,\n",
    "    'published':published\n",
    "    \n",
    "})"
   ]
  },
  {
   "cell_type": "code",
   "execution_count": 91,
   "id": "7f890c9a-a532-4b4f-99be-94f7b989f896",
   "metadata": {},
   "outputs": [],
   "source": [
    "df.insert(0, 'id', range(1, len(df) + 1))"
   ]
  },
  {
   "cell_type": "code",
   "execution_count": 92,
   "id": "9f254237-3d63-4e0c-a76a-9be67090c897",
   "metadata": {},
   "outputs": [
    {
     "name": "stdout",
     "output_type": "stream",
     "text": [
      "2 results were found.\n"
     ]
    }
   ],
   "source": [
    "print(f'{df.shape[0]} results were found.')"
   ]
  },
  {
   "cell_type": "code",
   "execution_count": 93,
   "id": "6235d67c-92d3-4237-a48f-e89ade1b0f57",
   "metadata": {},
   "outputs": [
    {
     "data": {
      "text/html": [
       "<div>\n",
       "<style scoped>\n",
       "    .dataframe tbody tr th:only-of-type {\n",
       "        vertical-align: middle;\n",
       "    }\n",
       "\n",
       "    .dataframe tbody tr th {\n",
       "        vertical-align: top;\n",
       "    }\n",
       "\n",
       "    .dataframe thead th {\n",
       "        text-align: right;\n",
       "    }\n",
       "</style>\n",
       "<table border=\"1\" class=\"dataframe\">\n",
       "  <thead>\n",
       "    <tr style=\"text-align: right;\">\n",
       "      <th></th>\n",
       "      <th>id</th>\n",
       "      <th>title</th>\n",
       "      <th>authors</th>\n",
       "      <th>summary</th>\n",
       "      <th>pdf_url</th>\n",
       "      <th>categories</th>\n",
       "      <th>published</th>\n",
       "    </tr>\n",
       "  </thead>\n",
       "  <tbody>\n",
       "    <tr>\n",
       "      <th>0</th>\n",
       "      <td>1</td>\n",
       "      <td>Learning Disentangled Avatars with Hybrid 3D R...</td>\n",
       "      <td>[Yao Feng, Weiyang Liu, Timo Bolkart, Jinlong ...</td>\n",
       "      <td>Tremendous efforts have been made to learn ani...</td>\n",
       "      <td>http://arxiv.org/pdf/2309.06441v1</td>\n",
       "      <td>[cs.CV, cs.AI, cs.GR]</td>\n",
       "      <td>2023-09-12 17:59:36+00:00</td>\n",
       "    </tr>\n",
       "    <tr>\n",
       "      <th>1</th>\n",
       "      <td>2</td>\n",
       "      <td>Attention De-sparsification Matters: Inducing ...</td>\n",
       "      <td>[Saarthak Kapse, Srijan Das, Jingwei Zhang, Ra...</td>\n",
       "      <td>We propose DiRL, a Diversity-inducing Represen...</td>\n",
       "      <td>http://arxiv.org/pdf/2309.06439v1</td>\n",
       "      <td>[cs.CV]</td>\n",
       "      <td>2023-09-12 17:59:10+00:00</td>\n",
       "    </tr>\n",
       "  </tbody>\n",
       "</table>\n",
       "</div>"
      ],
      "text/plain": [
       "   id                                              title  \\\n",
       "0   1  Learning Disentangled Avatars with Hybrid 3D R...   \n",
       "1   2  Attention De-sparsification Matters: Inducing ...   \n",
       "\n",
       "                                             authors  \\\n",
       "0  [Yao Feng, Weiyang Liu, Timo Bolkart, Jinlong ...   \n",
       "1  [Saarthak Kapse, Srijan Das, Jingwei Zhang, Ra...   \n",
       "\n",
       "                                             summary  \\\n",
       "0  Tremendous efforts have been made to learn ani...   \n",
       "1  We propose DiRL, a Diversity-inducing Represen...   \n",
       "\n",
       "                             pdf_url             categories  \\\n",
       "0  http://arxiv.org/pdf/2309.06441v1  [cs.CV, cs.AI, cs.GR]   \n",
       "1  http://arxiv.org/pdf/2309.06439v1                [cs.CV]   \n",
       "\n",
       "                  published  \n",
       "0 2023-09-12 17:59:36+00:00  \n",
       "1 2023-09-12 17:59:10+00:00  "
      ]
     },
     "execution_count": 93,
     "metadata": {},
     "output_type": "execute_result"
    }
   ],
   "source": [
    "df"
   ]
  },
  {
   "cell_type": "code",
   "execution_count": 94,
   "id": "4810e769-9596-4f50-b119-a3820cc46016",
   "metadata": {},
   "outputs": [],
   "source": [
    "# python program to check if a path exists\n",
    "#if path doesn’t exist we create a new path\n",
    "from pathlib import Path\n",
    "#creating a new directory called pythondirectory\n",
    "Path(\"./papers\").mkdir(parents=True, exist_ok=True)"
   ]
  },
  {
   "cell_type": "code",
   "execution_count": 77,
   "id": "100c80a9-a778-43de-89ec-ff92e4ebd405",
   "metadata": {},
   "outputs": [],
   "source": [
    "# Method 2 to download pdfs\n",
    "id=1\n",
    "for result in search.results():\n",
    "    if len(df)!=0:\n",
    "        result.download_pdf(filename=\"./papers/downloaded-paper-{}.pdf\".format(id))\n",
    "        id=id+1\n",
    "    else:\n",
    "        print('No results were found.')"
   ]
  },
  {
   "cell_type": "code",
   "execution_count": 117,
   "id": "f6ec80c9-c1c5-4a2a-bd36-b1df76d0ae72",
   "metadata": {},
   "outputs": [
    {
     "name": "stdout",
     "output_type": "stream",
     "text": [
      "http://arxiv.org/pdf/2309.06441v1\n",
      "http://arxiv.org/pdf/2309.06439v1\n"
     ]
    }
   ],
   "source": [
    "# Method 2 to download pdfs\n",
    "from pathlib import Path\n",
    "import requests\n",
    "id=1\n",
    "for link in pdf_url:\n",
    "    print(link)\n",
    "    if len(pdf_url)!=0:\n",
    "        filename_=\"./papers/downloaded-paper-{}.pdf\".format(id)\n",
    "        filename = Path(filename_)\n",
    "        url = link\n",
    "        response = requests.get(url)\n",
    "        filename.write_bytes(response.content)\n",
    "        id=id+1\n",
    "    else:\n",
    "        print('No results were found.')"
   ]
  },
  {
   "cell_type": "code",
   "execution_count": 118,
   "id": "13e209ae-a007-4dde-9a8c-1e16b0d23f9e",
   "metadata": {},
   "outputs": [
    {
     "name": "stdout",
     "output_type": "stream",
     "text": [
      "2309.06441v1\n",
      "2309.06439v1\n"
     ]
    }
   ],
   "source": [
    "# Method 3 to download pdfs\n",
    "import sys\n",
    "import pyxiv\n",
    "for arxiv_id in entry_id:\n",
    "    arxiv_id=arxiv_id.replace(\"http://arxiv.org/abs/\",\"\")\n",
    "    print(arxiv_id)\n",
    "    if len(entry_id)!=0:\n",
    "        eprint = pyxiv.eprint_from_arxiv_id(arxiv_id)\n",
    "        eprint.download(\"./papers\")\n",
    "    else:\n",
    "        print('No results were found.')"
   ]
  },
  {
   "cell_type": "code",
   "execution_count": null,
   "id": "298ce216-0a5e-4584-ad2f-52b2d47546a6",
   "metadata": {},
   "outputs": [],
   "source": [
    "pyxiv.ePrint.download?"
   ]
  },
  {
   "cell_type": "code",
   "execution_count": 147,
   "id": "554879d4-b4c8-4306-83e8-9e4e484b8545",
   "metadata": {},
   "outputs": [],
   "source": [
    "#dir(eprint)"
   ]
  },
  {
   "cell_type": "code",
   "execution_count": null,
   "id": "f30bd39d-1cb2-4121-a663-b0abd9d3eab6",
   "metadata": {},
   "outputs": [],
   "source": [
    "Notes\n",
    "https://pypi.org/project/scidownl/\n",
    "http://lukasschwab.me/arxiv.py/index.html#example-fetching-results-with-a-custom-client\n",
    "https://github.com/blairbilodeau/arxiv-biorxiv-search/blob/master/arxiv_search_walkthrough.ipynb\n",
    "https://github.com/Tachyu/Arxiv-download\n",
    "https://github.com/tom2rd/arXivSearchPython\n",
    "https://github.com/enriquecallejascastro/arXiv-scrape/blob/main/arXiv-scrape.ipynb\n",
    "https://github.com/enriquecallejascastro/arXiv-scrape/blob/main/arXiv-scrape.ipynb\n",
    "https://github.com/MorenoLaQuatra/arxiv_search\n",
    "https://huggingface.co/spaces/Deci/DeciLM-6b-instruct"
   ]
  },
  {
   "cell_type": "code",
   "execution_count": null,
   "id": "6b5fd9be-859d-4ad7-9910-464213e78c6d",
   "metadata": {},
   "outputs": [],
   "source": []
  },
  {
   "cell_type": "code",
   "execution_count": null,
   "id": "eb3f74ed-ddbf-4dac-ab5b-4081da4a763d",
   "metadata": {},
   "outputs": [],
   "source": []
  },
  {
   "cell_type": "code",
   "execution_count": null,
   "id": "3f1a8bac-1e7a-4697-8b40-5f14042ea3bd",
   "metadata": {},
   "outputs": [],
   "source": []
  },
  {
   "cell_type": "code",
   "execution_count": null,
   "id": "83b48d23-12e9-484f-b861-564d2540ce9c",
   "metadata": {},
   "outputs": [],
   "source": []
  },
  {
   "cell_type": "code",
   "execution_count": null,
   "id": "71a92451-defb-47b6-ac64-357e4fa62929",
   "metadata": {},
   "outputs": [],
   "source": [
    "\n"
   ]
  },
  {
   "cell_type": "code",
   "execution_count": null,
   "id": "47b57b69-42e7-4939-a7a4-fe3015e09e27",
   "metadata": {},
   "outputs": [],
   "source": []
  },
  {
   "cell_type": "code",
   "execution_count": null,
   "id": "6ee259d1-12bd-475e-ab2b-2ffadf37ed09",
   "metadata": {},
   "outputs": [],
   "source": []
  },
  {
   "cell_type": "code",
   "execution_count": null,
   "id": "2ac1b8fb-05b9-4908-a654-5b97be213fc6",
   "metadata": {},
   "outputs": [],
   "source": []
  },
  {
   "cell_type": "code",
   "execution_count": 149,
   "id": "9e11437d-1801-4748-9af6-a09fd3086217",
   "metadata": {},
   "outputs": [],
   "source": [
    "#paper = next(arxiv.Search(id_list=[\"1605.08386v1\"]).results())\n",
    "# Download the PDF to the PWD with a default filename.\n",
    "#paper.download_pdf()"
   ]
  },
  {
   "cell_type": "code",
   "execution_count": 150,
   "id": "a7135fcc-eb1b-403f-9099-8b52f44083a5",
   "metadata": {},
   "outputs": [],
   "source": [
    "# Download the PDF to the PWD with a default filename.\n",
    "#result.download_pdf()"
   ]
  },
  {
   "cell_type": "code",
   "execution_count": null,
   "id": "a761e3fc-a03a-4e8f-be76-70b0792418e3",
   "metadata": {},
   "outputs": [],
   "source": []
  },
  {
   "cell_type": "code",
   "execution_count": null,
   "id": "31a1bee6-499e-4e82-aa08-26fc1f594891",
   "metadata": {},
   "outputs": [],
   "source": []
  }
 ],
 "metadata": {
  "kernelspec": {
   "display_name": "Python (ArxivChat)",
   "language": "python",
   "name": "arxivchat"
  },
  "language_info": {
   "codemirror_mode": {
    "name": "ipython",
    "version": 3
   },
   "file_extension": ".py",
   "mimetype": "text/x-python",
   "name": "python",
   "nbconvert_exporter": "python",
   "pygments_lexer": "ipython3",
   "version": "3.10.11"
  }
 },
 "nbformat": 4,
 "nbformat_minor": 5
}
